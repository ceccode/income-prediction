{
  "nbformat": 4,
  "nbformat_minor": 0,
  "metadata": {
    "colab": {
      "name": "ml-zoomcamp-midterm project- Income classification.ipynb",
      "provenance": [],
      "collapsed_sections": [],
      "toc_visible": true
    },
    "kernelspec": {
      "name": "python3",
      "display_name": "Python 3"
    },
    "language_info": {
      "name": "python"
    }
  },
  "cells": [
    {
      "cell_type": "markdown",
      "metadata": {
        "id": "HIEr28wT6Yv7"
      },
      "source": [
        "# Income classification problem\n"
      ]
    },
    {
      "cell_type": "markdown",
      "metadata": {
        "id": "pLF1nqPVfTb_"
      },
      "source": [
        "Income classification\n",
        "Prediction task is to determine whether a person makes over 50K a year.\n",
        "\n",
        "\n",
        "https://www.kaggle.com/lodetomasi1995/income-classification\n",
        "\n"
      ]
    },
    {
      "cell_type": "code",
      "metadata": {
        "id": "RwhlrkSVeiSA"
      },
      "source": [
        "%matplotlib inline\n",
        "\n",
        "import pandas as pd\n",
        "import numpy as np\n",
        "\n",
        "import matplotlib.pyplot as plt\n",
        "import seaborn as sns\n",
        "\n",
        "import warnings\n",
        "warnings.filterwarnings(\"ignore\")"
      ],
      "execution_count": 1,
      "outputs": []
    },
    {
      "cell_type": "markdown",
      "metadata": {
        "id": "LCByjQZ5BZru"
      },
      "source": [
        "# Data Import"
      ]
    },
    {
      "cell_type": "code",
      "metadata": {
        "id": "zbl4d4ByQnWp"
      },
      "source": [
        "data = pd.read_csv('https://raw.githubusercontent.com/ceccode/mlbookcamp/main/datasets/income_evaluation.csv')"
      ],
      "execution_count": 2,
      "outputs": []
    },
    {
      "cell_type": "markdown",
      "metadata": {
        "id": "_gbDTLV_wXVU"
      },
      "source": [
        "# Exploratory data analysis"
      ]
    },
    {
      "cell_type": "code",
      "metadata": {
        "colab": {
          "base_uri": "https://localhost:8080/"
        },
        "id": "2T2VOhhFf3LM",
        "outputId": "36df5863-c6e8-49c4-ab79-392dad992393"
      },
      "source": [
        "print(data.shape)"
      ],
      "execution_count": 3,
      "outputs": [
        {
          "output_type": "stream",
          "name": "stdout",
          "text": [
            "(32561, 15)\n"
          ]
        }
      ]
    },
    {
      "cell_type": "markdown",
      "metadata": {
        "id": "HmBUQiDUwVfn"
      },
      "source": [
        "there are 32561 instances and 15 attributes in the data set."
      ]
    },
    {
      "cell_type": "markdown",
      "metadata": {
        "id": "dUZIWmKESPo4"
      },
      "source": [
        "* **age**:​the age of an individual \n",
        "  - Integer greater than 0\n",
        "* **workclass**:​a general term to represent the employment status of an individual\n",
        "  - Private, Self­emp­not­inc, Self­emp­inc, Federal­gov, Local­gov, State­gov, Without­pay, Never­worked.\n",
        "* **fnlwgt**:​final weight. In other words, this is the number of people the census believes\n",
        "the entry represents..\n",
        "  - Integer greater than 0\n",
        "* **education**:​the highest level of education achieved by an individual.\n",
        "  - Bachelors, Some­college, 11th, HS­grad, Prof­school, Assoc­acdm, Assoc­voc, 9th, 7th­8th, 12th, Masters, 1st­4th, 10th, Doctorate, 5th­6th, Preschool. \n",
        "* **education­num**:​the highest level of education achieved in numerical form.\n",
        "  - Integer greater than 0\n",
        "* **marital­status**: ​marital status of an individual. Married­ civ­spouse corresponds to a civilian spouse while Married­AF­spouse is a spouse in the Armed Forces. \n",
        "  - Married­civ­spouse, Divorced, Never­married, Separated, Widowed, Married­ spouse­ absent, Married ­AF ­spouse.\n",
        "* **occupation**:​the general type of occupation of an individual\n",
        "  - Tech­support, Craft­repair, Other­service, Sales, Exec­managerial, Prof­specialty, Handlers­cleaners, Machine­op­inspct, Adm­clerical, Farming­fishing, Transport­moving, Priv­house­serv, Protective­serv, Armed­Forces.\n",
        "* **relationship**: ​represents what this individual is relative to others. For example an individual could be a Husband. Each entry only has one relationship attribute and is somewhat redundant with marital status. We might not make use of this attribute at all\n",
        "  - Wife, Own­child, Husband, Not­in­family, Other­relative, Unmarried.\n",
        "* **race**:​Descriptions of an individual’s race\n",
        "  - White, Asian­Pac­Islander, Amer­Indian­Eskimo, Other, Black. ● sex:​the biological sex of the individual\n",
        "  - Male, Female\n",
        "* **capital­gain**: ​capitalgainsforanindividual\n",
        "  - Integer greater than or equal to 0\n",
        "* **capital­loss**:​ capitallossforanindividual\n",
        "  - Integer greater than or equal to 0\n",
        "* **hours­per­week**:​ the hours an individual has reported to work per week\n",
        "  - continuous.\n",
        "* **native­country**: ​country of origin for an individual\n",
        "  - United­States, Cambodia, England, Puerto­Rico, Canada, Germany, Outlying­US(Guam­USVI­etc), India, Japan, Greece, South, China, Cuba, Iran, Honduras, Philippines, Italy, Poland, Jamaica, Vietnam, Mexico, Portugal, Ireland, France, Dominican­Republic, Laos, Ecuador, Taiwan, Haiti, Columbia, Hungary, Guatemala, Nicaragua, Scotland, Thailand, Yugoslavia, El­Salvador, Trinadad&Tobago, Peru, Hong, Holand­Netherlands.\n",
        "* **income**: ​whether or not an individual makes more than $50,000 annually. \n",
        "  - <=50k, >50k"
      ]
    },
    {
      "cell_type": "code",
      "metadata": {
        "colab": {
          "base_uri": "https://localhost:8080/",
          "height": 580
        },
        "id": "0ExoV8CAf7bw",
        "outputId": "93386088-e539-4591-c7c7-8ffe3a9ab317"
      },
      "source": [
        "data.head(10)"
      ],
      "execution_count": 4,
      "outputs": [
        {
          "output_type": "execute_result",
          "data": {
            "text/html": [
              "<div>\n",
              "<style scoped>\n",
              "    .dataframe tbody tr th:only-of-type {\n",
              "        vertical-align: middle;\n",
              "    }\n",
              "\n",
              "    .dataframe tbody tr th {\n",
              "        vertical-align: top;\n",
              "    }\n",
              "\n",
              "    .dataframe thead th {\n",
              "        text-align: right;\n",
              "    }\n",
              "</style>\n",
              "<table border=\"1\" class=\"dataframe\">\n",
              "  <thead>\n",
              "    <tr style=\"text-align: right;\">\n",
              "      <th></th>\n",
              "      <th>age</th>\n",
              "      <th>workclass</th>\n",
              "      <th>fnlwgt</th>\n",
              "      <th>education</th>\n",
              "      <th>education-num</th>\n",
              "      <th>marital-status</th>\n",
              "      <th>occupation</th>\n",
              "      <th>relationship</th>\n",
              "      <th>race</th>\n",
              "      <th>sex</th>\n",
              "      <th>capital-gain</th>\n",
              "      <th>capital-loss</th>\n",
              "      <th>hours-per-week</th>\n",
              "      <th>native-country</th>\n",
              "      <th>income</th>\n",
              "    </tr>\n",
              "  </thead>\n",
              "  <tbody>\n",
              "    <tr>\n",
              "      <th>0</th>\n",
              "      <td>39</td>\n",
              "      <td>State-gov</td>\n",
              "      <td>77516</td>\n",
              "      <td>Bachelors</td>\n",
              "      <td>13</td>\n",
              "      <td>Never-married</td>\n",
              "      <td>Adm-clerical</td>\n",
              "      <td>Not-in-family</td>\n",
              "      <td>White</td>\n",
              "      <td>Male</td>\n",
              "      <td>2174</td>\n",
              "      <td>0</td>\n",
              "      <td>40</td>\n",
              "      <td>United-States</td>\n",
              "      <td>&lt;=50K</td>\n",
              "    </tr>\n",
              "    <tr>\n",
              "      <th>1</th>\n",
              "      <td>50</td>\n",
              "      <td>Self-emp-not-inc</td>\n",
              "      <td>83311</td>\n",
              "      <td>Bachelors</td>\n",
              "      <td>13</td>\n",
              "      <td>Married-civ-spouse</td>\n",
              "      <td>Exec-managerial</td>\n",
              "      <td>Husband</td>\n",
              "      <td>White</td>\n",
              "      <td>Male</td>\n",
              "      <td>0</td>\n",
              "      <td>0</td>\n",
              "      <td>13</td>\n",
              "      <td>United-States</td>\n",
              "      <td>&lt;=50K</td>\n",
              "    </tr>\n",
              "    <tr>\n",
              "      <th>2</th>\n",
              "      <td>38</td>\n",
              "      <td>Private</td>\n",
              "      <td>215646</td>\n",
              "      <td>HS-grad</td>\n",
              "      <td>9</td>\n",
              "      <td>Divorced</td>\n",
              "      <td>Handlers-cleaners</td>\n",
              "      <td>Not-in-family</td>\n",
              "      <td>White</td>\n",
              "      <td>Male</td>\n",
              "      <td>0</td>\n",
              "      <td>0</td>\n",
              "      <td>40</td>\n",
              "      <td>United-States</td>\n",
              "      <td>&lt;=50K</td>\n",
              "    </tr>\n",
              "    <tr>\n",
              "      <th>3</th>\n",
              "      <td>53</td>\n",
              "      <td>Private</td>\n",
              "      <td>234721</td>\n",
              "      <td>11th</td>\n",
              "      <td>7</td>\n",
              "      <td>Married-civ-spouse</td>\n",
              "      <td>Handlers-cleaners</td>\n",
              "      <td>Husband</td>\n",
              "      <td>Black</td>\n",
              "      <td>Male</td>\n",
              "      <td>0</td>\n",
              "      <td>0</td>\n",
              "      <td>40</td>\n",
              "      <td>United-States</td>\n",
              "      <td>&lt;=50K</td>\n",
              "    </tr>\n",
              "    <tr>\n",
              "      <th>4</th>\n",
              "      <td>28</td>\n",
              "      <td>Private</td>\n",
              "      <td>338409</td>\n",
              "      <td>Bachelors</td>\n",
              "      <td>13</td>\n",
              "      <td>Married-civ-spouse</td>\n",
              "      <td>Prof-specialty</td>\n",
              "      <td>Wife</td>\n",
              "      <td>Black</td>\n",
              "      <td>Female</td>\n",
              "      <td>0</td>\n",
              "      <td>0</td>\n",
              "      <td>40</td>\n",
              "      <td>Cuba</td>\n",
              "      <td>&lt;=50K</td>\n",
              "    </tr>\n",
              "    <tr>\n",
              "      <th>5</th>\n",
              "      <td>37</td>\n",
              "      <td>Private</td>\n",
              "      <td>284582</td>\n",
              "      <td>Masters</td>\n",
              "      <td>14</td>\n",
              "      <td>Married-civ-spouse</td>\n",
              "      <td>Exec-managerial</td>\n",
              "      <td>Wife</td>\n",
              "      <td>White</td>\n",
              "      <td>Female</td>\n",
              "      <td>0</td>\n",
              "      <td>0</td>\n",
              "      <td>40</td>\n",
              "      <td>United-States</td>\n",
              "      <td>&lt;=50K</td>\n",
              "    </tr>\n",
              "    <tr>\n",
              "      <th>6</th>\n",
              "      <td>49</td>\n",
              "      <td>Private</td>\n",
              "      <td>160187</td>\n",
              "      <td>9th</td>\n",
              "      <td>5</td>\n",
              "      <td>Married-spouse-absent</td>\n",
              "      <td>Other-service</td>\n",
              "      <td>Not-in-family</td>\n",
              "      <td>Black</td>\n",
              "      <td>Female</td>\n",
              "      <td>0</td>\n",
              "      <td>0</td>\n",
              "      <td>16</td>\n",
              "      <td>Jamaica</td>\n",
              "      <td>&lt;=50K</td>\n",
              "    </tr>\n",
              "    <tr>\n",
              "      <th>7</th>\n",
              "      <td>52</td>\n",
              "      <td>Self-emp-not-inc</td>\n",
              "      <td>209642</td>\n",
              "      <td>HS-grad</td>\n",
              "      <td>9</td>\n",
              "      <td>Married-civ-spouse</td>\n",
              "      <td>Exec-managerial</td>\n",
              "      <td>Husband</td>\n",
              "      <td>White</td>\n",
              "      <td>Male</td>\n",
              "      <td>0</td>\n",
              "      <td>0</td>\n",
              "      <td>45</td>\n",
              "      <td>United-States</td>\n",
              "      <td>&gt;50K</td>\n",
              "    </tr>\n",
              "    <tr>\n",
              "      <th>8</th>\n",
              "      <td>31</td>\n",
              "      <td>Private</td>\n",
              "      <td>45781</td>\n",
              "      <td>Masters</td>\n",
              "      <td>14</td>\n",
              "      <td>Never-married</td>\n",
              "      <td>Prof-specialty</td>\n",
              "      <td>Not-in-family</td>\n",
              "      <td>White</td>\n",
              "      <td>Female</td>\n",
              "      <td>14084</td>\n",
              "      <td>0</td>\n",
              "      <td>50</td>\n",
              "      <td>United-States</td>\n",
              "      <td>&gt;50K</td>\n",
              "    </tr>\n",
              "    <tr>\n",
              "      <th>9</th>\n",
              "      <td>42</td>\n",
              "      <td>Private</td>\n",
              "      <td>159449</td>\n",
              "      <td>Bachelors</td>\n",
              "      <td>13</td>\n",
              "      <td>Married-civ-spouse</td>\n",
              "      <td>Exec-managerial</td>\n",
              "      <td>Husband</td>\n",
              "      <td>White</td>\n",
              "      <td>Male</td>\n",
              "      <td>5178</td>\n",
              "      <td>0</td>\n",
              "      <td>40</td>\n",
              "      <td>United-States</td>\n",
              "      <td>&gt;50K</td>\n",
              "    </tr>\n",
              "  </tbody>\n",
              "</table>\n",
              "</div>"
            ],
            "text/plain": [
              "   age          workclass   fnlwgt  ...  hours-per-week   native-country  income\n",
              "0   39          State-gov    77516  ...              40    United-States   <=50K\n",
              "1   50   Self-emp-not-inc    83311  ...              13    United-States   <=50K\n",
              "2   38            Private   215646  ...              40    United-States   <=50K\n",
              "3   53            Private   234721  ...              40    United-States   <=50K\n",
              "4   28            Private   338409  ...              40             Cuba   <=50K\n",
              "5   37            Private   284582  ...              40    United-States   <=50K\n",
              "6   49            Private   160187  ...              16          Jamaica   <=50K\n",
              "7   52   Self-emp-not-inc   209642  ...              45    United-States    >50K\n",
              "8   31            Private    45781  ...              50    United-States    >50K\n",
              "9   42            Private   159449  ...              40    United-States    >50K\n",
              "\n",
              "[10 rows x 15 columns]"
            ]
          },
          "metadata": {},
          "execution_count": 4
        }
      ]
    },
    {
      "cell_type": "code",
      "metadata": {
        "id": "nlbhSBA93trS"
      },
      "source": [
        "df = data"
      ],
      "execution_count": 5,
      "outputs": []
    },
    {
      "cell_type": "code",
      "metadata": {
        "colab": {
          "base_uri": "https://localhost:8080/"
        },
        "id": "5EM0y6Nnf_n1",
        "outputId": "d1c3f653-1435-4834-aa22-23dcdb9a1bfd"
      },
      "source": [
        "df.info()"
      ],
      "execution_count": 6,
      "outputs": [
        {
          "output_type": "stream",
          "name": "stdout",
          "text": [
            "<class 'pandas.core.frame.DataFrame'>\n",
            "RangeIndex: 32561 entries, 0 to 32560\n",
            "Data columns (total 15 columns):\n",
            " #   Column           Non-Null Count  Dtype \n",
            "---  ------           --------------  ----- \n",
            " 0   age              32561 non-null  int64 \n",
            " 1    workclass       32561 non-null  object\n",
            " 2    fnlwgt          32561 non-null  int64 \n",
            " 3    education       32561 non-null  object\n",
            " 4    education-num   32561 non-null  int64 \n",
            " 5    marital-status  32561 non-null  object\n",
            " 6    occupation      32561 non-null  object\n",
            " 7    relationship    32561 non-null  object\n",
            " 8    race            32561 non-null  object\n",
            " 9    sex             32561 non-null  object\n",
            " 10   capital-gain    32561 non-null  int64 \n",
            " 11   capital-loss    32561 non-null  int64 \n",
            " 12   hours-per-week  32561 non-null  int64 \n",
            " 13   native-country  32561 non-null  object\n",
            " 14   income          32561 non-null  object\n",
            "dtypes: int64(6), object(9)\n",
            "memory usage: 3.7+ MB\n"
          ]
        }
      ]
    },
    {
      "cell_type": "markdown",
      "metadata": {
        "id": "6sCn5N9MxCME"
      },
      "source": [
        " contains 9 character variables and 6 numerical variables.\n",
        " **no missing var**."
      ]
    },
    {
      "cell_type": "markdown",
      "metadata": {
        "id": "tDhaCJInxH5e"
      },
      "source": [
        "Fix column names (trim unusefull space and lowercase) and update column character value (trim unusefull space and lowercase)"
      ]
    },
    {
      "cell_type": "code",
      "metadata": {
        "colab": {
          "base_uri": "https://localhost:8080/"
        },
        "id": "C7K6IGQBwuWX",
        "outputId": "9ad67169-e85a-49d4-8b5c-6eb5ff354d45"
      },
      "source": [
        "df.columns = df.columns.str.lower().str.strip()\n",
        "\n",
        "strings = list(df.dtypes[df.dtypes == 'object'].index)\n",
        "\n",
        "for col in strings:\n",
        "    df[col] = df[col].str.lower().str.strip()\n",
        "\n",
        "\n",
        "for col in df.columns:\n",
        "    print(col)\n",
        "    print(df[col].unique()[:20])\n",
        "    print(df[col].nunique())\n",
        "    print()"
      ],
      "execution_count": 7,
      "outputs": [
        {
          "output_type": "stream",
          "name": "stdout",
          "text": [
            "age\n",
            "[39 50 38 53 28 37 49 52 31 42 30 23 32 40 34 25 43 54 35 59]\n",
            "73\n",
            "\n",
            "workclass\n",
            "['state-gov' 'self-emp-not-inc' 'private' 'federal-gov' 'local-gov' '?'\n",
            " 'self-emp-inc' 'without-pay' 'never-worked']\n",
            "9\n",
            "\n",
            "fnlwgt\n",
            "[ 77516  83311 215646 234721 338409 284582 160187 209642  45781 159449\n",
            " 280464 141297 122272 205019 121772 245487 176756 186824  28887 292175]\n",
            "21648\n",
            "\n",
            "education\n",
            "['bachelors' 'hs-grad' '11th' 'masters' '9th' 'some-college' 'assoc-acdm'\n",
            " 'assoc-voc' '7th-8th' 'doctorate' 'prof-school' '5th-6th' '10th'\n",
            " '1st-4th' 'preschool' '12th']\n",
            "16\n",
            "\n",
            "education-num\n",
            "[13  9  7 14  5 10 12 11  4 16 15  3  6  2  1  8]\n",
            "16\n",
            "\n",
            "marital-status\n",
            "['never-married' 'married-civ-spouse' 'divorced' 'married-spouse-absent'\n",
            " 'separated' 'married-af-spouse' 'widowed']\n",
            "7\n",
            "\n",
            "occupation\n",
            "['adm-clerical' 'exec-managerial' 'handlers-cleaners' 'prof-specialty'\n",
            " 'other-service' 'sales' 'craft-repair' 'transport-moving'\n",
            " 'farming-fishing' 'machine-op-inspct' 'tech-support' '?'\n",
            " 'protective-serv' 'armed-forces' 'priv-house-serv']\n",
            "15\n",
            "\n",
            "relationship\n",
            "['not-in-family' 'husband' 'wife' 'own-child' 'unmarried' 'other-relative']\n",
            "6\n",
            "\n",
            "race\n",
            "['white' 'black' 'asian-pac-islander' 'amer-indian-eskimo' 'other']\n",
            "5\n",
            "\n",
            "sex\n",
            "['male' 'female']\n",
            "2\n",
            "\n",
            "capital-gain\n",
            "[ 2174     0 14084  5178  5013  2407 14344 15024  7688 34095  4064  4386\n",
            "  7298  1409  3674  1055  3464  2050  2176   594]\n",
            "119\n",
            "\n",
            "capital-loss\n",
            "[   0 2042 1408 1902 1573 1887 1719 1762 1564 2179 1816 1980 1977 1876\n",
            " 1340 2206 1741 1485 2339 2415]\n",
            "92\n",
            "\n",
            "hours-per-week\n",
            "[40 13 16 45 50 80 30 35 60 20 52 44 15 25 38 43 55 48 58 32]\n",
            "94\n",
            "\n",
            "native-country\n",
            "['united-states' 'cuba' 'jamaica' 'india' '?' 'mexico' 'south'\n",
            " 'puerto-rico' 'honduras' 'england' 'canada' 'germany' 'iran'\n",
            " 'philippines' 'italy' 'poland' 'columbia' 'cambodia' 'thailand' 'ecuador']\n",
            "42\n",
            "\n",
            "income\n",
            "['<=50k' '>50k']\n",
            "2\n",
            "\n"
          ]
        }
      ]
    },
    {
      "cell_type": "markdown",
      "metadata": {
        "id": "5ovz1w1m0Tkm"
      },
      "source": [
        ">There are some \"?\" value (e.g. in workclass, native country, occupation)."
      ]
    },
    {
      "cell_type": "code",
      "metadata": {
        "id": "hb_PzF2IQAJi"
      },
      "source": [
        "# replace '?' values in workclass variable with `NaN`\n",
        "\n",
        "df['workclass'].replace('?', np.NaN, inplace=True)"
      ],
      "execution_count": 8,
      "outputs": []
    },
    {
      "cell_type": "code",
      "metadata": {
        "id": "1aEOScNpQBV6"
      },
      "source": [
        "# replace '?' values in native-country variable with `NaN`\n",
        "\n",
        "df['native-country'].replace('?', np.NaN, inplace=True)"
      ],
      "execution_count": 9,
      "outputs": []
    },
    {
      "cell_type": "code",
      "metadata": {
        "id": "PKsiZv1zQEKr"
      },
      "source": [
        "# replace '?' values in occupation variable with `NaN`\n",
        "\n",
        "df['occupation'].replace('?', np.NaN, inplace=True)"
      ],
      "execution_count": 10,
      "outputs": []
    },
    {
      "cell_type": "markdown",
      "metadata": {
        "id": "gPNUxFBOQpk2"
      },
      "source": [
        "Check missing values in categorical variables"
      ]
    },
    {
      "cell_type": "code",
      "metadata": {
        "id": "TfSahmezAs7I"
      },
      "source": [
        "cat = [\"workclass\", \"education\", \"marital-status\", \"occupation\", \"relationship\", \"race\", \"sex\",\t\"native-country\"]"
      ],
      "execution_count": 11,
      "outputs": []
    },
    {
      "cell_type": "code",
      "metadata": {
        "colab": {
          "base_uri": "https://localhost:8080/"
        },
        "id": "bkJwGFfZQnmC",
        "outputId": "811940f6-dbf8-414f-f40e-01d2a21d7639"
      },
      "source": [
        "df[cat].isnull().sum()"
      ],
      "execution_count": 12,
      "outputs": [
        {
          "output_type": "execute_result",
          "data": {
            "text/plain": [
              "workclass         1836\n",
              "education            0\n",
              "marital-status       0\n",
              "occupation        1843\n",
              "relationship         0\n",
              "race                 0\n",
              "sex                  0\n",
              "native-country     583\n",
              "dtype: int64"
            ]
          },
          "metadata": {},
          "execution_count": 12
        }
      ]
    },
    {
      "cell_type": "code",
      "metadata": {
        "colab": {
          "base_uri": "https://localhost:8080/",
          "height": 176
        },
        "id": "n5yTFO-NwaZy",
        "outputId": "c9ad1994-d901-43f8-8d97-8d566bfbf0ac"
      },
      "source": [
        "df.mode()"
      ],
      "execution_count": 13,
      "outputs": [
        {
          "output_type": "execute_result",
          "data": {
            "text/html": [
              "<div>\n",
              "<style scoped>\n",
              "    .dataframe tbody tr th:only-of-type {\n",
              "        vertical-align: middle;\n",
              "    }\n",
              "\n",
              "    .dataframe tbody tr th {\n",
              "        vertical-align: top;\n",
              "    }\n",
              "\n",
              "    .dataframe thead th {\n",
              "        text-align: right;\n",
              "    }\n",
              "</style>\n",
              "<table border=\"1\" class=\"dataframe\">\n",
              "  <thead>\n",
              "    <tr style=\"text-align: right;\">\n",
              "      <th></th>\n",
              "      <th>age</th>\n",
              "      <th>workclass</th>\n",
              "      <th>fnlwgt</th>\n",
              "      <th>education</th>\n",
              "      <th>education-num</th>\n",
              "      <th>marital-status</th>\n",
              "      <th>occupation</th>\n",
              "      <th>relationship</th>\n",
              "      <th>race</th>\n",
              "      <th>sex</th>\n",
              "      <th>capital-gain</th>\n",
              "      <th>capital-loss</th>\n",
              "      <th>hours-per-week</th>\n",
              "      <th>native-country</th>\n",
              "      <th>income</th>\n",
              "    </tr>\n",
              "  </thead>\n",
              "  <tbody>\n",
              "    <tr>\n",
              "      <th>0</th>\n",
              "      <td>36.0</td>\n",
              "      <td>private</td>\n",
              "      <td>123011</td>\n",
              "      <td>hs-grad</td>\n",
              "      <td>9.0</td>\n",
              "      <td>married-civ-spouse</td>\n",
              "      <td>prof-specialty</td>\n",
              "      <td>husband</td>\n",
              "      <td>white</td>\n",
              "      <td>male</td>\n",
              "      <td>0.0</td>\n",
              "      <td>0.0</td>\n",
              "      <td>40.0</td>\n",
              "      <td>united-states</td>\n",
              "      <td>&lt;=50k</td>\n",
              "    </tr>\n",
              "    <tr>\n",
              "      <th>1</th>\n",
              "      <td>NaN</td>\n",
              "      <td>NaN</td>\n",
              "      <td>164190</td>\n",
              "      <td>NaN</td>\n",
              "      <td>NaN</td>\n",
              "      <td>NaN</td>\n",
              "      <td>NaN</td>\n",
              "      <td>NaN</td>\n",
              "      <td>NaN</td>\n",
              "      <td>NaN</td>\n",
              "      <td>NaN</td>\n",
              "      <td>NaN</td>\n",
              "      <td>NaN</td>\n",
              "      <td>NaN</td>\n",
              "      <td>NaN</td>\n",
              "    </tr>\n",
              "    <tr>\n",
              "      <th>2</th>\n",
              "      <td>NaN</td>\n",
              "      <td>NaN</td>\n",
              "      <td>203488</td>\n",
              "      <td>NaN</td>\n",
              "      <td>NaN</td>\n",
              "      <td>NaN</td>\n",
              "      <td>NaN</td>\n",
              "      <td>NaN</td>\n",
              "      <td>NaN</td>\n",
              "      <td>NaN</td>\n",
              "      <td>NaN</td>\n",
              "      <td>NaN</td>\n",
              "      <td>NaN</td>\n",
              "      <td>NaN</td>\n",
              "      <td>NaN</td>\n",
              "    </tr>\n",
              "  </tbody>\n",
              "</table>\n",
              "</div>"
            ],
            "text/plain": [
              "    age workclass  fnlwgt  ... hours-per-week  native-country income\n",
              "0  36.0   private  123011  ...           40.0   united-states  <=50k\n",
              "1   NaN       NaN  164190  ...            NaN             NaN    NaN\n",
              "2   NaN       NaN  203488  ...            NaN             NaN    NaN\n",
              "\n",
              "[3 rows x 15 columns]"
            ]
          },
          "metadata": {},
          "execution_count": 13
        }
      ]
    },
    {
      "cell_type": "markdown",
      "metadata": {
        "id": "3otvrLFcTSpA"
      },
      "source": [
        "impute missing categorical variables with most frequent value"
      ]
    },
    {
      "cell_type": "code",
      "metadata": {
        "id": "8CDqx0bfTOap"
      },
      "source": [
        "df['workclass'].fillna(df['workclass'].mode()[0], inplace=True)\n",
        "df['occupation'].fillna(df['occupation'].mode()[0], inplace=True)\n",
        "df['native-country'].fillna(df['native-country'].mode()[0], inplace=True)    "
      ],
      "execution_count": 14,
      "outputs": []
    },
    {
      "cell_type": "code",
      "metadata": {
        "colab": {
          "base_uri": "https://localhost:8080/"
        },
        "id": "rUIhxVoYTOOn",
        "outputId": "73d56e73-65ec-4500-a715-734dfbad73dd"
      },
      "source": [
        "df[cat].isnull().sum()"
      ],
      "execution_count": 15,
      "outputs": [
        {
          "output_type": "execute_result",
          "data": {
            "text/plain": [
              "workclass         0\n",
              "education         0\n",
              "marital-status    0\n",
              "occupation        0\n",
              "relationship      0\n",
              "race              0\n",
              "sex               0\n",
              "native-country    0\n",
              "dtype: int64"
            ]
          },
          "metadata": {},
          "execution_count": 15
        }
      ]
    },
    {
      "cell_type": "markdown",
      "metadata": {
        "id": "8cT0QlaB5rCo"
      },
      "source": [
        "**Duplicates**"
      ]
    },
    {
      "cell_type": "code",
      "metadata": {
        "colab": {
          "base_uri": "https://localhost:8080/"
        },
        "id": "gLxUhrhT35w8",
        "outputId": "7c687fe1-3f59-449e-d807-aff2bcbc4772"
      },
      "source": [
        "df.duplicated().value_counts()"
      ],
      "execution_count": 16,
      "outputs": [
        {
          "output_type": "execute_result",
          "data": {
            "text/plain": [
              "False    32537\n",
              "True        24\n",
              "dtype: int64"
            ]
          },
          "metadata": {},
          "execution_count": 16
        }
      ]
    },
    {
      "cell_type": "markdown",
      "metadata": {
        "id": "Q-tnXrxJxllm"
      },
      "source": [
        "remove duplicates"
      ]
    },
    {
      "cell_type": "code",
      "metadata": {
        "id": "Vtiw6aoV4ePb"
      },
      "source": [
        "df = df.drop_duplicates()"
      ],
      "execution_count": 17,
      "outputs": []
    },
    {
      "cell_type": "code",
      "metadata": {
        "colab": {
          "base_uri": "https://localhost:8080/"
        },
        "id": "hsUkfKSx4kUP",
        "outputId": "0f88b8ed-4818-499c-8e5d-145802296093"
      },
      "source": [
        "print(df.shape)"
      ],
      "execution_count": 18,
      "outputs": [
        {
          "output_type": "stream",
          "name": "stdout",
          "text": [
            "(32537, 15)\n"
          ]
        }
      ]
    },
    {
      "cell_type": "markdown",
      "metadata": {
        "id": "nloCKUV455l5"
      },
      "source": [
        "**Descriptive Statistics**"
      ]
    },
    {
      "cell_type": "code",
      "metadata": {
        "id": "Z9OL31hI58LR",
        "colab": {
          "base_uri": "https://localhost:8080/",
          "height": 235
        },
        "outputId": "3e265ebb-57f1-45b4-8be4-efb92aeba9e0"
      },
      "source": [
        "df.describe(percentiles=[.0, .25, .5, .75, .9, .95, .99, .1]).T"
      ],
      "execution_count": 19,
      "outputs": [
        {
          "output_type": "execute_result",
          "data": {
            "text/html": [
              "<div>\n",
              "<style scoped>\n",
              "    .dataframe tbody tr th:only-of-type {\n",
              "        vertical-align: middle;\n",
              "    }\n",
              "\n",
              "    .dataframe tbody tr th {\n",
              "        vertical-align: top;\n",
              "    }\n",
              "\n",
              "    .dataframe thead th {\n",
              "        text-align: right;\n",
              "    }\n",
              "</style>\n",
              "<table border=\"1\" class=\"dataframe\">\n",
              "  <thead>\n",
              "    <tr style=\"text-align: right;\">\n",
              "      <th></th>\n",
              "      <th>count</th>\n",
              "      <th>mean</th>\n",
              "      <th>std</th>\n",
              "      <th>min</th>\n",
              "      <th>0%</th>\n",
              "      <th>10%</th>\n",
              "      <th>25%</th>\n",
              "      <th>50%</th>\n",
              "      <th>75%</th>\n",
              "      <th>90%</th>\n",
              "      <th>95%</th>\n",
              "      <th>99%</th>\n",
              "      <th>max</th>\n",
              "    </tr>\n",
              "  </thead>\n",
              "  <tbody>\n",
              "    <tr>\n",
              "      <th>age</th>\n",
              "      <td>32537.0</td>\n",
              "      <td>38.585549</td>\n",
              "      <td>13.637984</td>\n",
              "      <td>17.0</td>\n",
              "      <td>17.0</td>\n",
              "      <td>22.0</td>\n",
              "      <td>28.0</td>\n",
              "      <td>37.0</td>\n",
              "      <td>48.0</td>\n",
              "      <td>58.0</td>\n",
              "      <td>63.0</td>\n",
              "      <td>74.0</td>\n",
              "      <td>90.0</td>\n",
              "    </tr>\n",
              "    <tr>\n",
              "      <th>fnlwgt</th>\n",
              "      <td>32537.0</td>\n",
              "      <td>189780.848511</td>\n",
              "      <td>105556.471009</td>\n",
              "      <td>12285.0</td>\n",
              "      <td>12285.0</td>\n",
              "      <td>65724.4</td>\n",
              "      <td>117827.0</td>\n",
              "      <td>178356.0</td>\n",
              "      <td>236993.0</td>\n",
              "      <td>329056.0</td>\n",
              "      <td>379699.2</td>\n",
              "      <td>510072.0</td>\n",
              "      <td>1484705.0</td>\n",
              "    </tr>\n",
              "    <tr>\n",
              "      <th>education-num</th>\n",
              "      <td>32537.0</td>\n",
              "      <td>10.081815</td>\n",
              "      <td>2.571633</td>\n",
              "      <td>1.0</td>\n",
              "      <td>1.0</td>\n",
              "      <td>7.0</td>\n",
              "      <td>9.0</td>\n",
              "      <td>10.0</td>\n",
              "      <td>12.0</td>\n",
              "      <td>13.0</td>\n",
              "      <td>14.0</td>\n",
              "      <td>16.0</td>\n",
              "      <td>16.0</td>\n",
              "    </tr>\n",
              "    <tr>\n",
              "      <th>capital-gain</th>\n",
              "      <td>32537.0</td>\n",
              "      <td>1078.443741</td>\n",
              "      <td>7387.957424</td>\n",
              "      <td>0.0</td>\n",
              "      <td>0.0</td>\n",
              "      <td>0.0</td>\n",
              "      <td>0.0</td>\n",
              "      <td>0.0</td>\n",
              "      <td>0.0</td>\n",
              "      <td>0.0</td>\n",
              "      <td>5013.0</td>\n",
              "      <td>15024.0</td>\n",
              "      <td>99999.0</td>\n",
              "    </tr>\n",
              "    <tr>\n",
              "      <th>capital-loss</th>\n",
              "      <td>32537.0</td>\n",
              "      <td>87.368227</td>\n",
              "      <td>403.101833</td>\n",
              "      <td>0.0</td>\n",
              "      <td>0.0</td>\n",
              "      <td>0.0</td>\n",
              "      <td>0.0</td>\n",
              "      <td>0.0</td>\n",
              "      <td>0.0</td>\n",
              "      <td>0.0</td>\n",
              "      <td>0.0</td>\n",
              "      <td>1980.0</td>\n",
              "      <td>4356.0</td>\n",
              "    </tr>\n",
              "    <tr>\n",
              "      <th>hours-per-week</th>\n",
              "      <td>32537.0</td>\n",
              "      <td>40.440329</td>\n",
              "      <td>12.346889</td>\n",
              "      <td>1.0</td>\n",
              "      <td>1.0</td>\n",
              "      <td>24.0</td>\n",
              "      <td>40.0</td>\n",
              "      <td>40.0</td>\n",
              "      <td>45.0</td>\n",
              "      <td>55.0</td>\n",
              "      <td>60.0</td>\n",
              "      <td>80.0</td>\n",
              "      <td>99.0</td>\n",
              "    </tr>\n",
              "  </tbody>\n",
              "</table>\n",
              "</div>"
            ],
            "text/plain": [
              "                  count           mean  ...       99%        max\n",
              "age             32537.0      38.585549  ...      74.0       90.0\n",
              "fnlwgt          32537.0  189780.848511  ...  510072.0  1484705.0\n",
              "education-num   32537.0      10.081815  ...      16.0       16.0\n",
              "capital-gain    32537.0    1078.443741  ...   15024.0    99999.0\n",
              "capital-loss    32537.0      87.368227  ...    1980.0     4356.0\n",
              "hours-per-week  32537.0      40.440329  ...      80.0       99.0\n",
              "\n",
              "[6 rows x 13 columns]"
            ]
          },
          "metadata": {},
          "execution_count": 19
        }
      ]
    },
    {
      "cell_type": "code",
      "metadata": {
        "colab": {
          "base_uri": "https://localhost:8080/",
          "height": 328
        },
        "id": "NxUTvyjc7RYc",
        "outputId": "eccd6a46-2dcd-42b3-9200-eaa2dbd95325"
      },
      "source": [
        "df.describe(include=[\"O\"]).T"
      ],
      "execution_count": 20,
      "outputs": [
        {
          "output_type": "execute_result",
          "data": {
            "text/html": [
              "<div>\n",
              "<style scoped>\n",
              "    .dataframe tbody tr th:only-of-type {\n",
              "        vertical-align: middle;\n",
              "    }\n",
              "\n",
              "    .dataframe tbody tr th {\n",
              "        vertical-align: top;\n",
              "    }\n",
              "\n",
              "    .dataframe thead th {\n",
              "        text-align: right;\n",
              "    }\n",
              "</style>\n",
              "<table border=\"1\" class=\"dataframe\">\n",
              "  <thead>\n",
              "    <tr style=\"text-align: right;\">\n",
              "      <th></th>\n",
              "      <th>count</th>\n",
              "      <th>unique</th>\n",
              "      <th>top</th>\n",
              "      <th>freq</th>\n",
              "    </tr>\n",
              "  </thead>\n",
              "  <tbody>\n",
              "    <tr>\n",
              "      <th>workclass</th>\n",
              "      <td>32537</td>\n",
              "      <td>8</td>\n",
              "      <td>private</td>\n",
              "      <td>24509</td>\n",
              "    </tr>\n",
              "    <tr>\n",
              "      <th>education</th>\n",
              "      <td>32537</td>\n",
              "      <td>16</td>\n",
              "      <td>hs-grad</td>\n",
              "      <td>10494</td>\n",
              "    </tr>\n",
              "    <tr>\n",
              "      <th>marital-status</th>\n",
              "      <td>32537</td>\n",
              "      <td>7</td>\n",
              "      <td>married-civ-spouse</td>\n",
              "      <td>14970</td>\n",
              "    </tr>\n",
              "    <tr>\n",
              "      <th>occupation</th>\n",
              "      <td>32537</td>\n",
              "      <td>14</td>\n",
              "      <td>prof-specialty</td>\n",
              "      <td>5979</td>\n",
              "    </tr>\n",
              "    <tr>\n",
              "      <th>relationship</th>\n",
              "      <td>32537</td>\n",
              "      <td>6</td>\n",
              "      <td>husband</td>\n",
              "      <td>13187</td>\n",
              "    </tr>\n",
              "    <tr>\n",
              "      <th>race</th>\n",
              "      <td>32537</td>\n",
              "      <td>5</td>\n",
              "      <td>white</td>\n",
              "      <td>27795</td>\n",
              "    </tr>\n",
              "    <tr>\n",
              "      <th>sex</th>\n",
              "      <td>32537</td>\n",
              "      <td>2</td>\n",
              "      <td>male</td>\n",
              "      <td>21775</td>\n",
              "    </tr>\n",
              "    <tr>\n",
              "      <th>native-country</th>\n",
              "      <td>32537</td>\n",
              "      <td>41</td>\n",
              "      <td>united-states</td>\n",
              "      <td>29735</td>\n",
              "    </tr>\n",
              "    <tr>\n",
              "      <th>income</th>\n",
              "      <td>32537</td>\n",
              "      <td>2</td>\n",
              "      <td>&lt;=50k</td>\n",
              "      <td>24698</td>\n",
              "    </tr>\n",
              "  </tbody>\n",
              "</table>\n",
              "</div>"
            ],
            "text/plain": [
              "                count unique                 top   freq\n",
              "workclass       32537      8             private  24509\n",
              "education       32537     16             hs-grad  10494\n",
              "marital-status  32537      7  married-civ-spouse  14970\n",
              "occupation      32537     14      prof-specialty   5979\n",
              "relationship    32537      6             husband  13187\n",
              "race            32537      5               white  27795\n",
              "sex             32537      2                male  21775\n",
              "native-country  32537     41       united-states  29735\n",
              "income          32537      2               <=50k  24698"
            ]
          },
          "metadata": {},
          "execution_count": 20
        }
      ]
    },
    {
      "cell_type": "code",
      "metadata": {
        "id": "oWOqUJBw6DHD",
        "colab": {
          "base_uri": "https://localhost:8080/"
        },
        "outputId": "ab8b3894-0d6c-491d-bb07-a204bddda1a0"
      },
      "source": [
        "df.income = (df.income == '>50k').astype(int)\n",
        "df.income.value_counts()"
      ],
      "execution_count": 21,
      "outputs": [
        {
          "output_type": "execute_result",
          "data": {
            "text/plain": [
              "0    24698\n",
              "1     7839\n",
              "Name: income, dtype: int64"
            ]
          },
          "metadata": {},
          "execution_count": 21
        }
      ]
    },
    {
      "cell_type": "code",
      "metadata": {
        "colab": {
          "base_uri": "https://localhost:8080/",
          "height": 729
        },
        "id": "ctktfpcD8Dxw",
        "outputId": "189c04d0-0c4e-437f-cc9b-6eb05dc68e02"
      },
      "source": [
        "fig = plt.figure(figsize=(15,10))\n",
        "ax = plt.gca()\n",
        "df.hist(bins=100, ax=ax, layout=(3, 3), column=['income', 'age','fnlwgt','education-num','capital-gain','capital-loss', 'hours-per-week'])\n",
        "plt.tight_layout()\n",
        "plt.show()"
      ],
      "execution_count": 22,
      "outputs": [
        {
          "output_type": "display_data",
          "data": {
            "image/png": "[encoded data removed]",
            "text/plain": [
              "<Figure size 1080x720 with 9 Axes>"
            ]
          },
          "metadata": {
            "needs_background": "light"
          }
        }
      ]
    },
    {
      "cell_type": "code",
      "metadata": {
        "colab": {
          "base_uri": "https://localhost:8080/",
          "height": 621
        },
        "id": "yVLTPUOAzJMG",
        "outputId": "270299c4-53a9-45b9-ad9e-7981c260d6e2"
      },
      "source": [
        "f, ax = plt.subplots(figsize=(15, 10))\n",
        "ax = sns.countplot(x=\"income\", hue=\"race\", data=df, palette=\"Set1\")\n",
        "ax.set_title(\"Frequency distribution of income variable wrt race\")\n",
        "plt.show()"
      ],
      "execution_count": 23,
      "outputs": [
        {
          "output_type": "display_data",
          "data": {
            "image/png": "[encoded data removed]",
            "text/plain": [
              "<Figure size 1080x720 with 1 Axes>"
            ]
          },
          "metadata": {
            "needs_background": "light"
          }
        }
      ]
    },
    {
      "cell_type": "code",
      "metadata": {
        "colab": {
          "base_uri": "https://localhost:8080/",
          "height": 621
        },
        "id": "7l7t30BQzrWy",
        "outputId": "93a78140-f6cb-4dbd-fc5b-a9a5a9a5225c"
      },
      "source": [
        "fig2, ax = plt.subplots(figsize=(15, 10))\n",
        "ax = sns.countplot(x=\"income\", hue=\"education\", data=df, palette=\"Set1\")\n",
        "ax.set_title(\"Frequency distribution of income variable wrt race\")\n",
        "plt.show()"
      ],
      "execution_count": 24,
      "outputs": [
        {
          "output_type": "display_data",
          "data": {
            "image/png": "[encoded data removed]",
            "text/plain": [
              "<Figure size 1080x720 with 1 Axes>"
            ]
          },
          "metadata": {
            "needs_background": "light"
          }
        }
      ]
    },
    {
      "cell_type": "markdown",
      "metadata": {
        "id": "WC-3w_ay9ozT"
      },
      "source": [
        "Train, val, test set will be 60%, 20%, 20% of the dataset respectively"
      ]
    },
    {
      "cell_type": "code",
      "metadata": {
        "id": "0kv-VB2U9pWy"
      },
      "source": [
        "from sklearn.model_selection import train_test_split"
      ],
      "execution_count": 25,
      "outputs": []
    },
    {
      "cell_type": "code",
      "metadata": {
        "id": "zumqAGaL9scJ"
      },
      "source": [
        "df_full_train, df_test = train_test_split(df, test_size=0.2, random_state=1)\n",
        "df_train, df_val = train_test_split(df_full_train, test_size=0.25, random_state=1)"
      ],
      "execution_count": 26,
      "outputs": []
    },
    {
      "cell_type": "code",
      "metadata": {
        "colab": {
          "base_uri": "https://localhost:8080/"
        },
        "id": "SfKFDYIr9wNi",
        "outputId": "1a38ea89-5287-416f-8d12-32afe6b0f569"
      },
      "source": [
        "len(df_train), len(df_val), len(df_test)"
      ],
      "execution_count": 27,
      "outputs": [
        {
          "output_type": "execute_result",
          "data": {
            "text/plain": [
              "(19521, 6508, 6508)"
            ]
          },
          "metadata": {},
          "execution_count": 27
        }
      ]
    },
    {
      "cell_type": "code",
      "metadata": {
        "id": "ih1UFshV93ru"
      },
      "source": [
        "df_train = df_train.reset_index(drop=True)\n",
        "df_val = df_val.reset_index(drop=True)\n",
        "df_test = df_test.reset_index(drop=True)\n",
        "\n",
        "y_train = df_train.income.values\n",
        "y_val = df_val.income.values\n",
        "y_test = df_test.income.values\n",
        "\n",
        "del df_train['income']\n",
        "del df_val['income']\n",
        "del df_test['income']"
      ],
      "execution_count": 28,
      "outputs": []
    },
    {
      "cell_type": "markdown",
      "metadata": {
        "id": "QS2t592p-Hki"
      },
      "source": [
        "**Correlation**\n",
        "\n",
        "Correlation is a statistical technique that shows how two variables are related."
      ]
    },
    {
      "cell_type": "code",
      "metadata": {
        "colab": {
          "base_uri": "https://localhost:8080/",
          "height": 266
        },
        "id": "uFIeIE1h93fW",
        "outputId": "e16d8c25-5a92-44d3-83cf-f6108d7f01ed"
      },
      "source": [
        "df_full_train = df_full_train.reset_index(drop=True)\n",
        "y_full_train = (df_full_train.income == '>50k').astype(int)\n",
        "\n",
        "cor = df_full_train.corr()\n",
        "cor"
      ],
      "execution_count": 29,
      "outputs": [
        {
          "output_type": "execute_result",
          "data": {
            "text/html": [
              "<div>\n",
              "<style scoped>\n",
              "    .dataframe tbody tr th:only-of-type {\n",
              "        vertical-align: middle;\n",
              "    }\n",
              "\n",
              "    .dataframe tbody tr th {\n",
              "        vertical-align: top;\n",
              "    }\n",
              "\n",
              "    .dataframe thead th {\n",
              "        text-align: right;\n",
              "    }\n",
              "</style>\n",
              "<table border=\"1\" class=\"dataframe\">\n",
              "  <thead>\n",
              "    <tr style=\"text-align: right;\">\n",
              "      <th></th>\n",
              "      <th>age</th>\n",
              "      <th>fnlwgt</th>\n",
              "      <th>education-num</th>\n",
              "      <th>capital-gain</th>\n",
              "      <th>capital-loss</th>\n",
              "      <th>hours-per-week</th>\n",
              "      <th>income</th>\n",
              "    </tr>\n",
              "  </thead>\n",
              "  <tbody>\n",
              "    <tr>\n",
              "      <th>age</th>\n",
              "      <td>1.000000</td>\n",
              "      <td>-0.081099</td>\n",
              "      <td>0.035899</td>\n",
              "      <td>0.078464</td>\n",
              "      <td>0.057658</td>\n",
              "      <td>0.071312</td>\n",
              "      <td>0.237043</td>\n",
              "    </tr>\n",
              "    <tr>\n",
              "      <th>fnlwgt</th>\n",
              "      <td>-0.081099</td>\n",
              "      <td>1.000000</td>\n",
              "      <td>-0.043424</td>\n",
              "      <td>0.003517</td>\n",
              "      <td>-0.011553</td>\n",
              "      <td>-0.016086</td>\n",
              "      <td>-0.006780</td>\n",
              "    </tr>\n",
              "    <tr>\n",
              "      <th>education-num</th>\n",
              "      <td>0.035899</td>\n",
              "      <td>-0.043424</td>\n",
              "      <td>1.000000</td>\n",
              "      <td>0.126999</td>\n",
              "      <td>0.077956</td>\n",
              "      <td>0.150076</td>\n",
              "      <td>0.337038</td>\n",
              "    </tr>\n",
              "    <tr>\n",
              "      <th>capital-gain</th>\n",
              "      <td>0.078464</td>\n",
              "      <td>0.003517</td>\n",
              "      <td>0.126999</td>\n",
              "      <td>1.000000</td>\n",
              "      <td>-0.031346</td>\n",
              "      <td>0.078845</td>\n",
              "      <td>0.220989</td>\n",
              "    </tr>\n",
              "    <tr>\n",
              "      <th>capital-loss</th>\n",
              "      <td>0.057658</td>\n",
              "      <td>-0.011553</td>\n",
              "      <td>0.077956</td>\n",
              "      <td>-0.031346</td>\n",
              "      <td>1.000000</td>\n",
              "      <td>0.057815</td>\n",
              "      <td>0.152447</td>\n",
              "    </tr>\n",
              "    <tr>\n",
              "      <th>hours-per-week</th>\n",
              "      <td>0.071312</td>\n",
              "      <td>-0.016086</td>\n",
              "      <td>0.150076</td>\n",
              "      <td>0.078845</td>\n",
              "      <td>0.057815</td>\n",
              "      <td>1.000000</td>\n",
              "      <td>0.233585</td>\n",
              "    </tr>\n",
              "    <tr>\n",
              "      <th>income</th>\n",
              "      <td>0.237043</td>\n",
              "      <td>-0.006780</td>\n",
              "      <td>0.337038</td>\n",
              "      <td>0.220989</td>\n",
              "      <td>0.152447</td>\n",
              "      <td>0.233585</td>\n",
              "      <td>1.000000</td>\n",
              "    </tr>\n",
              "  </tbody>\n",
              "</table>\n",
              "</div>"
            ],
            "text/plain": [
              "                     age    fnlwgt  ...  hours-per-week    income\n",
              "age             1.000000 -0.081099  ...        0.071312  0.237043\n",
              "fnlwgt         -0.081099  1.000000  ...       -0.016086 -0.006780\n",
              "education-num   0.035899 -0.043424  ...        0.150076  0.337038\n",
              "capital-gain    0.078464  0.003517  ...        0.078845  0.220989\n",
              "capital-loss    0.057658 -0.011553  ...        0.057815  0.152447\n",
              "hours-per-week  0.071312 -0.016086  ...        1.000000  0.233585\n",
              "income          0.237043 -0.006780  ...        0.233585  1.000000\n",
              "\n",
              "[7 rows x 7 columns]"
            ]
          },
          "metadata": {},
          "execution_count": 29
        }
      ]
    },
    {
      "cell_type": "code",
      "metadata": {
        "colab": {
          "base_uri": "https://localhost:8080/",
          "height": 337
        },
        "id": "8htM5QkW-WM6",
        "outputId": "f84e3163-de07-44ac-cc7f-ab23711e8829"
      },
      "source": [
        "sns.heatmap(cor, annot=True, cmap=plt.cm.Reds)\n",
        "plt.show()"
      ],
      "execution_count": 30,
      "outputs": [
        {
          "output_type": "display_data",
          "data": {
            "image/png": "[encoded data removed]",
            "text/plain": [
              "<Figure size 432x288 with 2 Axes>"
            ]
          },
          "metadata": {
            "needs_background": "light"
          }
        }
      ]
    },
    {
      "cell_type": "markdown",
      "metadata": {
        "id": "pmGKZo9kWt-9"
      },
      "source": [
        "there is no strong correlation between variables."
      ]
    },
    {
      "cell_type": "markdown",
      "metadata": {
        "id": "DOwUi_6NAoXI"
      },
      "source": [
        "**Mutual information**"
      ]
    },
    {
      "cell_type": "code",
      "metadata": {
        "id": "Lv_rEY1OArhX"
      },
      "source": [
        "from sklearn.metrics import mutual_info_score"
      ],
      "execution_count": 31,
      "outputs": []
    },
    {
      "cell_type": "code",
      "metadata": {
        "id": "nDpo07A6AvH9"
      },
      "source": [
        "def calculate_mi(series):\n",
        "    return mutual_info_score(series, df_full_train.income)"
      ],
      "execution_count": 32,
      "outputs": []
    },
    {
      "cell_type": "code",
      "metadata": {
        "colab": {
          "base_uri": "https://localhost:8080/",
          "height": 297
        },
        "id": "htF3YEGZDASN",
        "outputId": "d984df77-f09e-4e7b-981d-c131d34363d6"
      },
      "source": [
        "df_mi = df_full_train[cat].apply(calculate_mi)\n",
        "df_mi = df_mi.sort_values(ascending=False).to_frame(name='MI')\n",
        "df_mi"
      ],
      "execution_count": 33,
      "outputs": [
        {
          "output_type": "execute_result",
          "data": {
            "text/html": [
              "<div>\n",
              "<style scoped>\n",
              "    .dataframe tbody tr th:only-of-type {\n",
              "        vertical-align: middle;\n",
              "    }\n",
              "\n",
              "    .dataframe tbody tr th {\n",
              "        vertical-align: top;\n",
              "    }\n",
              "\n",
              "    .dataframe thead th {\n",
              "        text-align: right;\n",
              "    }\n",
              "</style>\n",
              "<table border=\"1\" class=\"dataframe\">\n",
              "  <thead>\n",
              "    <tr style=\"text-align: right;\">\n",
              "      <th></th>\n",
              "      <th>MI</th>\n",
              "    </tr>\n",
              "  </thead>\n",
              "  <tbody>\n",
              "    <tr>\n",
              "      <th>relationship</th>\n",
              "      <td>0.116779</td>\n",
              "    </tr>\n",
              "    <tr>\n",
              "      <th>marital-status</th>\n",
              "      <td>0.110455</td>\n",
              "    </tr>\n",
              "    <tr>\n",
              "      <th>education</th>\n",
              "      <td>0.065911</td>\n",
              "    </tr>\n",
              "    <tr>\n",
              "      <th>occupation</th>\n",
              "      <td>0.053318</td>\n",
              "    </tr>\n",
              "    <tr>\n",
              "      <th>sex</th>\n",
              "      <td>0.025746</td>\n",
              "    </tr>\n",
              "    <tr>\n",
              "      <th>workclass</th>\n",
              "      <td>0.012862</td>\n",
              "    </tr>\n",
              "    <tr>\n",
              "      <th>native-country</th>\n",
              "      <td>0.006218</td>\n",
              "    </tr>\n",
              "    <tr>\n",
              "      <th>race</th>\n",
              "      <td>0.005668</td>\n",
              "    </tr>\n",
              "  </tbody>\n",
              "</table>\n",
              "</div>"
            ],
            "text/plain": [
              "                      MI\n",
              "relationship    0.116779\n",
              "marital-status  0.110455\n",
              "education       0.065911\n",
              "occupation      0.053318\n",
              "sex             0.025746\n",
              "workclass       0.012862\n",
              "native-country  0.006218\n",
              "race            0.005668"
            ]
          },
          "metadata": {},
          "execution_count": 33
        }
      ]
    },
    {
      "cell_type": "markdown",
      "metadata": {
        "id": "1JI-vlOFNMpg"
      },
      "source": [
        "# Model training\n",
        "\n",
        "Compare different classification models"
      ]
    },
    {
      "cell_type": "markdown",
      "metadata": {
        "id": "B2nZKFHnN60U"
      },
      "source": [
        "## LogisticRegression"
      ]
    },
    {
      "cell_type": "code",
      "metadata": {
        "id": "Cu2-NtEvFQTB"
      },
      "source": [
        "from sklearn.feature_extraction import DictVectorizer\n",
        "from sklearn.linear_model import LogisticRegression\n",
        "from sklearn.metrics import accuracy_score"
      ],
      "execution_count": 34,
      "outputs": []
    },
    {
      "cell_type": "code",
      "metadata": {
        "id": "_xP4g-qzFU5I"
      },
      "source": [
        "num = [\"age\",\t\"fnlwgt\",\t\"education-num\",\t\"capital-gain\", \"capital-loss\", \"hours-per-week\"]"
      ],
      "execution_count": 35,
      "outputs": []
    },
    {
      "cell_type": "code",
      "metadata": {
        "id": "ghvDefPDFh5g"
      },
      "source": [
        "train_dict = df_train[cat + num].to_dict(orient='records')\n",
        "\n",
        "dv = DictVectorizer(sparse=False)\n",
        "dv.fit(train_dict)\n",
        "\n",
        "X_train = dv.transform(train_dict)"
      ],
      "execution_count": 36,
      "outputs": []
    },
    {
      "cell_type": "code",
      "metadata": {
        "colab": {
          "base_uri": "https://localhost:8080/"
        },
        "id": "MnIH42gQFmbj",
        "outputId": "0d2d6490-e065-4190-acc1-af65a365880a"
      },
      "source": [
        "model = LogisticRegression(solver='lbfgs', C=1.0, random_state=42)\n",
        "model.fit(X_train, y_train)\n",
        "\n",
        "val_dict = df_val[cat + num].to_dict(orient='records')\n",
        "X_val = dv.transform(val_dict)\n",
        "\n",
        "y_pred = model.predict(X_val)\n",
        "\n",
        "accuracy = np.round(accuracy_score(y_val, y_pred),4)\n",
        "print(accuracy)"
      ],
      "execution_count": 37,
      "outputs": [
        {
          "output_type": "stream",
          "name": "stdout",
          "text": [
            "0.7895\n"
          ]
        }
      ]
    },
    {
      "cell_type": "code",
      "metadata": {
        "colab": {
          "base_uri": "https://localhost:8080/"
        },
        "id": "-6RFxHDQN0pu",
        "outputId": "fda4c7cc-d184-4ae8-90e1-4284b1f7c4cb"
      },
      "source": [
        "from sklearn.metrics import confusion_matrix\n",
        "confusion_matrix = confusion_matrix(y_test, y_pred)\n",
        "print(confusion_matrix)"
      ],
      "execution_count": 38,
      "outputs": [
        {
          "output_type": "stream",
          "name": "stdout",
          "text": [
            "[[4567  447]\n",
            " [1367  127]]\n"
          ]
        }
      ]
    },
    {
      "cell_type": "markdown",
      "metadata": {
        "id": "lBen-tgcF1mz"
      },
      "source": [
        "Feature elimination"
      ]
    },
    {
      "cell_type": "code",
      "metadata": {
        "colab": {
          "base_uri": "https://localhost:8080/"
        },
        "id": "xMKx4HN7FywH",
        "outputId": "f05a0844-7933-4003-8be6-952b49cbba6a"
      },
      "source": [
        "features = cat + num\n",
        "features"
      ],
      "execution_count": 39,
      "outputs": [
        {
          "output_type": "execute_result",
          "data": {
            "text/plain": [
              "['workclass',\n",
              " 'education',\n",
              " 'marital-status',\n",
              " 'occupation',\n",
              " 'relationship',\n",
              " 'race',\n",
              " 'sex',\n",
              " 'native-country',\n",
              " 'age',\n",
              " 'fnlwgt',\n",
              " 'education-num',\n",
              " 'capital-gain',\n",
              " 'capital-loss',\n",
              " 'hours-per-week']"
            ]
          },
          "metadata": {},
          "execution_count": 39
        }
      ]
    },
    {
      "cell_type": "code",
      "metadata": {
        "colab": {
          "base_uri": "https://localhost:8080/"
        },
        "id": "j0J_PtnBGEzf",
        "outputId": "b5745d2f-6c80-4887-cb83-477a0dfdb150"
      },
      "source": [
        "orig_score = accuracy\n",
        "\n",
        "for c in features:\n",
        "    subset = features.copy()\n",
        "    subset.remove(c)\n",
        "    \n",
        "    train_dict = df_train[subset].to_dict(orient='records')\n",
        "\n",
        "    dv = DictVectorizer(sparse=False)\n",
        "    dv.fit(train_dict)\n",
        "\n",
        "    X_train = dv.transform(train_dict)\n",
        "\n",
        "    model = LogisticRegression(solver='lbfgs', C=1.0, random_state=42)\n",
        "    model.fit(X_train, y_train)\n",
        "\n",
        "    val_dict = df_val[subset].to_dict(orient='records')\n",
        "    X_val = dv.transform(val_dict)\n",
        "\n",
        "    y_pred = model.predict(X_val)\n",
        "\n",
        "    score = accuracy_score(y_val, y_pred)\n",
        "    print(c, orig_score - score, score)"
      ],
      "execution_count": 40,
      "outputs": [
        {
          "output_type": "stream",
          "name": "stdout",
          "text": [
            "workclass 0.000932083589428423 0.7885679164105716\n",
            "education 1.0141364474525183e-05 0.7894898586355255\n",
            "marital-status 1.0141364474525183e-05 0.7894898586355255\n",
            "occupation 1.0141364474525183e-05 0.7894898586355255\n",
            "relationship 1.0141364474525183e-05 0.7894898586355255\n",
            "race 0.001700368776889949 0.78779963122311\n",
            "sex 1.0141364474525183e-05 0.7894898586355255\n",
            "native-country 0.0006247695144437904 0.7888752304855562\n",
            "age 0.0012393976644130555 0.7882606023355869\n",
            "fnlwgt -0.03102858020897359 0.8205285802089736\n",
            "education-num 0.0012393976644130555 0.7882606023355869\n",
            "capital-gain 0.03273909035033806 0.7567609096496619\n",
            "capital-loss 0.0010857406269206837 0.7884142593730793\n",
            "hours-per-week 0.0018540258143823207 0.7876459741856177\n"
          ]
        }
      ]
    },
    {
      "cell_type": "markdown",
      "metadata": {
        "id": "VttnLVw6JisX"
      },
      "source": [
        "**Ridge Regression**"
      ]
    },
    {
      "cell_type": "code",
      "metadata": {
        "id": "d2AB_kFDHtk-"
      },
      "source": [
        "train_dict = df_train[cat + num].to_dict(orient='records')"
      ],
      "execution_count": 41,
      "outputs": []
    },
    {
      "cell_type": "code",
      "metadata": {
        "id": "v7PUdAidJlii"
      },
      "source": [
        "dv = DictVectorizer(sparse=False)\n",
        "dv.fit(train_dict)\n",
        "\n",
        "X_train = dv.transform(train_dict)\n",
        "\n",
        "val_dict = df_val[cat + num].to_dict(orient='records')\n",
        "X_val = dv.transform(val_dict)"
      ],
      "execution_count": 42,
      "outputs": []
    },
    {
      "cell_type": "code",
      "metadata": {
        "id": "DsFir5ztJnpa"
      },
      "source": [
        "from sklearn.linear_model import Ridge\n",
        "from sklearn.metrics import mean_squared_error"
      ],
      "execution_count": 43,
      "outputs": []
    },
    {
      "cell_type": "code",
      "metadata": {
        "colab": {
          "base_uri": "https://localhost:8080/"
        },
        "id": "CgZATsN0Jp0m",
        "outputId": "01630c1a-4e70-4928-9a1f-5f50e7a35a82"
      },
      "source": [
        "for a in [0, 0.01, 0.1, 1, 10, 1e-10]:\n",
        "    model = Ridge(alpha=a,random_state=42)\n",
        "    model.fit(X_train, y_train)\n",
        "    \n",
        "    y_pred = model.predict(X_val)\n",
        "    \n",
        "    score = np.sqrt(mean_squared_error(y_val, y_pred))\n",
        "    acc_score = accuracy_score(y_val, y_pred >= 0.5)\n",
        "    \n",
        "    print(a, round(score, 3))\n",
        "    print(confusion_matrix)\n",
        "    print('Model accuracy score : {0:0.4f}'. format(accuracy_score(y_val, y_pred >= 0.5)))\n",
        "    print()"
      ],
      "execution_count": 44,
      "outputs": [
        {
          "output_type": "stream",
          "name": "stdout",
          "text": [
            "0 0.343\n",
            "[[4567  447]\n",
            " [1367  127]]\n",
            "Model accuracy score : 0.8390\n",
            "\n",
            "0.01 0.343\n",
            "[[4567  447]\n",
            " [1367  127]]\n",
            "Model accuracy score : 0.8391\n",
            "\n",
            "0.1 0.343\n",
            "[[4567  447]\n",
            " [1367  127]]\n",
            "Model accuracy score : 0.8390\n",
            "\n",
            "1 0.343\n",
            "[[4567  447]\n",
            " [1367  127]]\n",
            "Model accuracy score : 0.8391\n",
            "\n",
            "10 0.343\n",
            "[[4567  447]\n",
            " [1367  127]]\n",
            "Model accuracy score : 0.8394\n",
            "\n",
            "1e-10 0.343\n",
            "[[4567  447]\n",
            " [1367  127]]\n",
            "Model accuracy score : 0.8391\n",
            "\n"
          ]
        }
      ]
    },
    {
      "cell_type": "markdown",
      "metadata": {
        "id": "-4j0dljtUINP"
      },
      "source": [
        "## Decision Trees"
      ]
    },
    {
      "cell_type": "code",
      "metadata": {
        "id": "zrvJo505Ukib"
      },
      "source": [
        "from sklearn.tree import DecisionTreeClassifier\n",
        "from sklearn.tree import export_text"
      ],
      "execution_count": 45,
      "outputs": []
    },
    {
      "cell_type": "code",
      "metadata": {
        "colab": {
          "base_uri": "https://localhost:8080/"
        },
        "id": "7QvooOHjU2oB",
        "outputId": "01497c4d-3acf-4109-e175-b0ac62ba7dae"
      },
      "source": [
        "dt = DecisionTreeClassifier(max_depth=1)\n",
        "dt.fit(X_train, y_train)"
      ],
      "execution_count": 46,
      "outputs": [
        {
          "output_type": "execute_result",
          "data": {
            "text/plain": [
              "DecisionTreeClassifier(ccp_alpha=0.0, class_weight=None, criterion='gini',\n",
              "                       max_depth=1, max_features=None, max_leaf_nodes=None,\n",
              "                       min_impurity_decrease=0.0, min_impurity_split=None,\n",
              "                       min_samples_leaf=1, min_samples_split=2,\n",
              "                       min_weight_fraction_leaf=0.0, presort='deprecated',\n",
              "                       random_state=None, splitter='best')"
            ]
          },
          "metadata": {},
          "execution_count": 46
        }
      ]
    },
    {
      "cell_type": "code",
      "metadata": {
        "colab": {
          "base_uri": "https://localhost:8080/"
        },
        "id": "zFNoVxH8U4A1",
        "outputId": "c02f56eb-d748-4ffd-d59c-bd122ec58efd"
      },
      "source": [
        "print(export_text(dt, feature_names=dv.get_feature_names()))"
      ],
      "execution_count": 47,
      "outputs": [
        {
          "output_type": "stream",
          "name": "stdout",
          "text": [
            "|--- marital-status=married-civ-spouse <= 0.50\n",
            "|   |--- class: 0\n",
            "|--- marital-status=married-civ-spouse >  0.50\n",
            "|   |--- class: 0\n",
            "\n"
          ]
        }
      ]
    },
    {
      "cell_type": "markdown",
      "metadata": {
        "id": "tMb4sO_ENwPQ"
      },
      "source": [
        "## Random Forest"
      ]
    },
    {
      "cell_type": "code",
      "metadata": {
        "id": "v8u4gBurVNet"
      },
      "source": [
        "from sklearn.ensemble import RandomForestClassifier"
      ],
      "execution_count": 48,
      "outputs": []
    },
    {
      "cell_type": "code",
      "metadata": {
        "colab": {
          "base_uri": "https://localhost:8080/"
        },
        "id": "lc5M8ZUcVN52",
        "outputId": "81e88af3-6a10-478a-a6e2-fe17cd6a9b71"
      },
      "source": [
        "rf = RandomForestClassifier(n_estimators=10, random_state=1, n_jobs=-1)\n",
        "rf.fit(X_train, y_train)\n"
      ],
      "execution_count": 49,
      "outputs": [
        {
          "output_type": "execute_result",
          "data": {
            "text/plain": [
              "RandomForestClassifier(bootstrap=True, ccp_alpha=0.0, class_weight=None,\n",
              "                       criterion='gini', max_depth=None, max_features='auto',\n",
              "                       max_leaf_nodes=None, max_samples=None,\n",
              "                       min_impurity_decrease=0.0, min_impurity_split=None,\n",
              "                       min_samples_leaf=1, min_samples_split=2,\n",
              "                       min_weight_fraction_leaf=0.0, n_estimators=10, n_jobs=-1,\n",
              "                       oob_score=False, random_state=1, verbose=0,\n",
              "                       warm_start=False)"
            ]
          },
          "metadata": {},
          "execution_count": 49
        }
      ]
    },
    {
      "cell_type": "code",
      "metadata": {
        "id": "H_F1ZKeXVbQX"
      },
      "source": [
        "from sklearn.metrics import mean_squared_error"
      ],
      "execution_count": 50,
      "outputs": []
    },
    {
      "cell_type": "code",
      "metadata": {
        "colab": {
          "base_uri": "https://localhost:8080/"
        },
        "id": "OKH97ruFVw8S",
        "outputId": "40001422-d929-4c85-c9b9-65585e93205b"
      },
      "source": [
        "y_pred = rf.predict(X_val)\n",
        "np.sqrt(mean_squared_error(y_val, y_pred))"
      ],
      "execution_count": 51,
      "outputs": [
        {
          "output_type": "execute_result",
          "data": {
            "text/plain": [
              "0.395891624364754"
            ]
          },
          "metadata": {},
          "execution_count": 51
        }
      ]
    },
    {
      "cell_type": "code",
      "metadata": {
        "colab": {
          "base_uri": "https://localhost:8080/"
        },
        "id": "qAdnihWLV_kE",
        "outputId": "7c375e26-bcdd-4d78-b678-b0971c698692"
      },
      "source": [
        "scores = []\n",
        "\n",
        "for n in [10, 100, 200]:\n",
        "    rf = RandomForestClassifier(n_estimators=n, random_state=1, n_jobs=-1)\n",
        "\n",
        "    \n",
        "    rf.fit(X_train, y_train)\n",
        "    \n",
        "    y_pred = rf.predict(X_val)\n",
        "    score = np.sqrt(mean_squared_error(y_val, y_pred))\n",
        "    \n",
        "    scores.append((n, score))\n",
        "    print(score)\n",
        "\n",
        "\n",
        "df_scores = pd.DataFrame(scores, columns=['n_estimators', 'rmse'])"
      ],
      "execution_count": 52,
      "outputs": [
        {
          "output_type": "stream",
          "name": "stdout",
          "text": [
            "0.395891624364754\n",
            "0.391402690818344\n",
            "0.3888425451161949\n"
          ]
        }
      ]
    },
    {
      "cell_type": "code",
      "metadata": {
        "colab": {
          "base_uri": "https://localhost:8080/",
          "height": 282
        },
        "id": "EF_JiFZsWIiX",
        "outputId": "a0c26dc5-6c2e-4cb5-9135-b03550aad5a7"
      },
      "source": [
        "plt.plot(df_scores.n_estimators, df_scores.rmse.round(3))"
      ],
      "execution_count": 53,
      "outputs": [
        {
          "output_type": "execute_result",
          "data": {
            "text/plain": [
              "[<matplotlib.lines.Line2D at 0x7f20e1184a90>]"
            ]
          },
          "metadata": {},
          "execution_count": 53
        },
        {
          "output_type": "display_data",
          "data": {
            "image/png": "[encoded data removed]",
            "text/plain": [
              "<Figure size 432x288 with 1 Axes>"
            ]
          },
          "metadata": {
            "needs_background": "light"
          }
        }
      ]
    },
    {
      "cell_type": "code",
      "metadata": {
        "id": "rWt869cpXc5j"
      },
      "source": [
        "scores = []\n",
        "max_depths = [10, 15, 20, 25]\n",
        "\n",
        "for d in max_depths:\n",
        "    for n in range(10, 150, 10):\n",
        "\n",
        "        rf = RandomForestClassifier(n_estimators=n,\n",
        "                                  max_depth=d,\n",
        "                                  random_state=1, n_jobs=-1,\n",
        "                                  warm_start=True)\n",
        "\n",
        "        rf.fit(X_train, y_train)\n",
        "\n",
        "        y_pred = rf.predict(X_val)\n",
        "        score = np.sqrt(mean_squared_error(y_val, y_pred))\n",
        "\n",
        "        scores.append((d, n, score))\n",
        "\n",
        "columns = ['max_depth', 'n_estimators', 'rmse']\n",
        "df_scores = pd.DataFrame(scores, columns=columns)"
      ],
      "execution_count": 54,
      "outputs": []
    },
    {
      "cell_type": "code",
      "metadata": {
        "colab": {
          "base_uri": "https://localhost:8080/",
          "height": 282
        },
        "id": "J1q2R3TrXr4E",
        "outputId": "3a7e4de5-fea5-42a1-f4e2-d88a33e88e15"
      },
      "source": [
        "for d in max_depths:\n",
        "    df_subset = df_scores[df_scores.max_depth == d]\n",
        "    plt.plot(df_subset.n_estimators, df_subset.rmse, label=d)\n",
        "\n",
        "plt.legend()"
      ],
      "execution_count": 55,
      "outputs": [
        {
          "output_type": "execute_result",
          "data": {
            "text/plain": [
              "<matplotlib.legend.Legend at 0x7f20da950c50>"
            ]
          },
          "metadata": {},
          "execution_count": 55
        },
        {
          "output_type": "display_data",
          "data": {
            "image/png": "[encoded data removed]",
            "text/plain": [
              "<Figure size 432x288 with 1 Axes>"
            ]
          },
          "metadata": {
            "needs_background": "light"
          }
        }
      ]
    },
    {
      "cell_type": "markdown",
      "metadata": {
        "id": "cp5jj5THYKvc"
      },
      "source": [
        "Feature Importance"
      ]
    },
    {
      "cell_type": "code",
      "metadata": {
        "colab": {
          "base_uri": "https://localhost:8080/"
        },
        "id": "j8daLO26YL7K",
        "outputId": "f984d48d-3437-4733-9074-7aebfc2e34b9"
      },
      "source": [
        "rf.feature_importances_"
      ],
      "execution_count": 56,
      "outputs": [
        {
          "output_type": "execute_result",
          "data": {
            "text/plain": [
              "array([1.18464320e-01, 1.20477095e-01, 3.16636411e-02, 8.05776147e-02,\n",
              "       1.61365577e-03, 2.83759087e-03, 9.28565015e-04, 3.47558742e-04,\n",
              "       8.60697905e-04, 2.23350626e-03, 1.27524043e-03, 2.52009758e-03,\n",
              "       3.17275460e-03, 1.51551299e-02, 5.52693085e-03, 1.00323429e-02,\n",
              "       1.08085588e-02, 1.63985043e-04, 7.26090876e-03, 6.22668865e-03,\n",
              "       9.72559505e-02, 7.34085407e-02, 6.41657799e-03, 4.74737387e-04,\n",
              "       8.97043278e-02, 1.07042090e-03, 3.07254571e-02, 1.67650740e-03,\n",
              "       2.02447289e-03, 3.10451339e-04, 1.28095880e-03, 5.67088172e-04,\n",
              "       2.19306164e-04, 7.73945578e-04, 1.03357161e-04, 7.58581875e-05,\n",
              "       1.38508249e-04, 1.11190434e-03, 3.22997708e-04, 9.69475563e-04,\n",
              "       2.66410227e-04, 2.53892601e-04, 1.97424043e-04, 1.97238470e-06,\n",
              "       7.92110617e-06, 2.71429024e-04, 1.86695163e-04, 9.05595624e-04,\n",
              "       5.24195751e-04, 1.99005178e-04, 8.87041774e-04, 4.25208122e-04,\n",
              "       5.99894070e-04, 6.13891195e-05, 2.14939729e-03, 1.23335569e-04,\n",
              "       2.75257131e-05, 1.31755563e-04, 1.36147593e-03, 3.60730411e-04,\n",
              "       6.69259692e-05, 5.84379774e-04, 5.93844364e-05, 6.72377288e-04,\n",
              "       3.21617839e-04, 1.08636249e-04, 1.86370570e-04, 5.23873773e-03,\n",
              "       1.92670436e-04, 7.61574904e-05, 5.39649127e-03, 1.05307354e-05,\n",
              "       6.09681342e-03, 2.11364256e-02, 5.21914670e-03, 2.84305396e-03,\n",
              "       3.43890738e-03, 8.92724787e-03, 1.45377295e-04, 1.07494124e-02,\n",
              "       2.87621229e-03, 6.91889643e-03, 5.74567272e-03, 3.93843915e-03,\n",
              "       1.44156036e-03, 3.25337817e-03, 4.79879792e-03, 7.34733555e-04,\n",
              "       6.59056791e-03, 4.44988525e-02, 1.36638585e-02, 1.71872965e-03,\n",
              "       1.06035130e-02, 6.42678799e-03, 1.05334015e-02, 1.02543788e-02,\n",
              "       1.41165715e-02, 5.43302126e-03, 5.79019395e-03, 3.94761348e-07,\n",
              "       1.04965173e-02, 5.96287844e-03, 8.66720679e-03, 4.29604043e-03,\n",
              "       4.87096549e-05])"
            ]
          },
          "metadata": {},
          "execution_count": 56
        }
      ]
    },
    {
      "cell_type": "code",
      "metadata": {
        "colab": {
          "base_uri": "https://localhost:8080/",
          "height": 419
        },
        "id": "h6edCR2FYNaL",
        "outputId": "b4cec7f0-a1ea-45d6-ce6b-a1065c42b0f5"
      },
      "source": [
        "df_importances = pd.DataFrame()\n",
        "df_importances['feature'] = dv.get_feature_names()\n",
        "df_importances['importance'] = rf.feature_importances_\n",
        "df_importances"
      ],
      "execution_count": 57,
      "outputs": [
        {
          "output_type": "execute_result",
          "data": {
            "text/html": [
              "<div>\n",
              "<style scoped>\n",
              "    .dataframe tbody tr th:only-of-type {\n",
              "        vertical-align: middle;\n",
              "    }\n",
              "\n",
              "    .dataframe tbody tr th {\n",
              "        vertical-align: top;\n",
              "    }\n",
              "\n",
              "    .dataframe thead th {\n",
              "        text-align: right;\n",
              "    }\n",
              "</style>\n",
              "<table border=\"1\" class=\"dataframe\">\n",
              "  <thead>\n",
              "    <tr style=\"text-align: right;\">\n",
              "      <th></th>\n",
              "      <th>feature</th>\n",
              "      <th>importance</th>\n",
              "    </tr>\n",
              "  </thead>\n",
              "  <tbody>\n",
              "    <tr>\n",
              "      <th>0</th>\n",
              "      <td>age</td>\n",
              "      <td>0.118464</td>\n",
              "    </tr>\n",
              "    <tr>\n",
              "      <th>1</th>\n",
              "      <td>capital-gain</td>\n",
              "      <td>0.120477</td>\n",
              "    </tr>\n",
              "    <tr>\n",
              "      <th>2</th>\n",
              "      <td>capital-loss</td>\n",
              "      <td>0.031664</td>\n",
              "    </tr>\n",
              "    <tr>\n",
              "      <th>3</th>\n",
              "      <td>education-num</td>\n",
              "      <td>0.080578</td>\n",
              "    </tr>\n",
              "    <tr>\n",
              "      <th>4</th>\n",
              "      <td>education=10th</td>\n",
              "      <td>0.001614</td>\n",
              "    </tr>\n",
              "    <tr>\n",
              "      <th>...</th>\n",
              "      <td>...</td>\n",
              "      <td>...</td>\n",
              "    </tr>\n",
              "    <tr>\n",
              "      <th>100</th>\n",
              "      <td>workclass=private</td>\n",
              "      <td>0.010497</td>\n",
              "    </tr>\n",
              "    <tr>\n",
              "      <th>101</th>\n",
              "      <td>workclass=self-emp-inc</td>\n",
              "      <td>0.005963</td>\n",
              "    </tr>\n",
              "    <tr>\n",
              "      <th>102</th>\n",
              "      <td>workclass=self-emp-not-inc</td>\n",
              "      <td>0.008667</td>\n",
              "    </tr>\n",
              "    <tr>\n",
              "      <th>103</th>\n",
              "      <td>workclass=state-gov</td>\n",
              "      <td>0.004296</td>\n",
              "    </tr>\n",
              "    <tr>\n",
              "      <th>104</th>\n",
              "      <td>workclass=without-pay</td>\n",
              "      <td>0.000049</td>\n",
              "    </tr>\n",
              "  </tbody>\n",
              "</table>\n",
              "<p>105 rows × 2 columns</p>\n",
              "</div>"
            ],
            "text/plain": [
              "                        feature  importance\n",
              "0                           age    0.118464\n",
              "1                  capital-gain    0.120477\n",
              "2                  capital-loss    0.031664\n",
              "3                 education-num    0.080578\n",
              "4                education=10th    0.001614\n",
              "..                          ...         ...\n",
              "100           workclass=private    0.010497\n",
              "101      workclass=self-emp-inc    0.005963\n",
              "102  workclass=self-emp-not-inc    0.008667\n",
              "103         workclass=state-gov    0.004296\n",
              "104       workclass=without-pay    0.000049\n",
              "\n",
              "[105 rows x 2 columns]"
            ]
          },
          "metadata": {},
          "execution_count": 57
        }
      ]
    },
    {
      "cell_type": "code",
      "metadata": {
        "id": "DhhSirkHYRQ5"
      },
      "source": [
        "feature_score = df_importances.sort_values(by='importance', ascending=False)"
      ],
      "execution_count": 58,
      "outputs": []
    },
    {
      "cell_type": "code",
      "metadata": {
        "colab": {
          "base_uri": "https://localhost:8080/",
          "height": 419
        },
        "id": "i6tObeWlcNN-",
        "outputId": "ca64caf7-a6cb-48f3-90a6-1ca9d97a8e1a"
      },
      "source": [
        "feature_score"
      ],
      "execution_count": 59,
      "outputs": [
        {
          "output_type": "execute_result",
          "data": {
            "text/html": [
              "<div>\n",
              "<style scoped>\n",
              "    .dataframe tbody tr th:only-of-type {\n",
              "        vertical-align: middle;\n",
              "    }\n",
              "\n",
              "    .dataframe tbody tr th {\n",
              "        vertical-align: top;\n",
              "    }\n",
              "\n",
              "    .dataframe thead th {\n",
              "        text-align: right;\n",
              "    }\n",
              "</style>\n",
              "<table border=\"1\" class=\"dataframe\">\n",
              "  <thead>\n",
              "    <tr style=\"text-align: right;\">\n",
              "      <th></th>\n",
              "      <th>feature</th>\n",
              "      <th>importance</th>\n",
              "    </tr>\n",
              "  </thead>\n",
              "  <tbody>\n",
              "    <tr>\n",
              "      <th>1</th>\n",
              "      <td>capital-gain</td>\n",
              "      <td>1.204771e-01</td>\n",
              "    </tr>\n",
              "    <tr>\n",
              "      <th>0</th>\n",
              "      <td>age</td>\n",
              "      <td>1.184643e-01</td>\n",
              "    </tr>\n",
              "    <tr>\n",
              "      <th>20</th>\n",
              "      <td>fnlwgt</td>\n",
              "      <td>9.725595e-02</td>\n",
              "    </tr>\n",
              "    <tr>\n",
              "      <th>24</th>\n",
              "      <td>marital-status=married-civ-spouse</td>\n",
              "      <td>8.970433e-02</td>\n",
              "    </tr>\n",
              "    <tr>\n",
              "      <th>3</th>\n",
              "      <td>education-num</td>\n",
              "      <td>8.057761e-02</td>\n",
              "    </tr>\n",
              "    <tr>\n",
              "      <th>...</th>\n",
              "      <td>...</td>\n",
              "      <td>...</td>\n",
              "    </tr>\n",
              "    <tr>\n",
              "      <th>56</th>\n",
              "      <td>native-country=outlying-us(guam-usvi-etc)</td>\n",
              "      <td>2.752571e-05</td>\n",
              "    </tr>\n",
              "    <tr>\n",
              "      <th>71</th>\n",
              "      <td>occupation=armed-forces</td>\n",
              "      <td>1.053074e-05</td>\n",
              "    </tr>\n",
              "    <tr>\n",
              "      <th>44</th>\n",
              "      <td>native-country=honduras</td>\n",
              "      <td>7.921106e-06</td>\n",
              "    </tr>\n",
              "    <tr>\n",
              "      <th>43</th>\n",
              "      <td>native-country=holand-netherlands</td>\n",
              "      <td>1.972385e-06</td>\n",
              "    </tr>\n",
              "    <tr>\n",
              "      <th>99</th>\n",
              "      <td>workclass=never-worked</td>\n",
              "      <td>3.947613e-07</td>\n",
              "    </tr>\n",
              "  </tbody>\n",
              "</table>\n",
              "<p>105 rows × 2 columns</p>\n",
              "</div>"
            ],
            "text/plain": [
              "                                      feature    importance\n",
              "1                                capital-gain  1.204771e-01\n",
              "0                                         age  1.184643e-01\n",
              "20                                     fnlwgt  9.725595e-02\n",
              "24          marital-status=married-civ-spouse  8.970433e-02\n",
              "3                               education-num  8.057761e-02\n",
              "..                                        ...           ...\n",
              "56  native-country=outlying-us(guam-usvi-etc)  2.752571e-05\n",
              "71                    occupation=armed-forces  1.053074e-05\n",
              "44                    native-country=honduras  7.921106e-06\n",
              "43          native-country=holand-netherlands  1.972385e-06\n",
              "99                     workclass=never-worked  3.947613e-07\n",
              "\n",
              "[105 rows x 2 columns]"
            ]
          },
          "metadata": {},
          "execution_count": 59
        }
      ]
    },
    {
      "cell_type": "markdown",
      "metadata": {
        "id": "RGVVYNUU0I_d"
      },
      "source": [
        "Best Random Forset model"
      ]
    },
    {
      "cell_type": "markdown",
      "metadata": {
        "id": "-ib8yPcu0yGi"
      },
      "source": [
        "model = RandomForest\n",
        "\n",
        "max_depths = 10\n",
        "\n",
        "n_estimator = 100\n"
      ]
    },
    {
      "cell_type": "code",
      "metadata": {
        "colab": {
          "base_uri": "https://localhost:8080/"
        },
        "id": "b9jeE-wA1g_q",
        "outputId": "bd39e31b-ea3e-4a1b-c151-e29ce2b0ef62"
      },
      "source": [
        "# instantiate the classifier with n_estimators = 100 and max_depths = 10\n",
        "model_rfc_100 = RandomForestClassifier(n_estimators=100, max_depth=10, random_state=1)\n",
        "\n",
        "# fit the model to the training set\n",
        "model_rfc_100.fit(X_train, y_train)\n",
        "\n",
        "# Predict on the test set results\n",
        "y_pred_rfc_100 = model_rfc_100.predict(X_val)\n",
        "\n",
        "#roc_auc requires the prediction probability of classes and not the class labels\n",
        "probas = model_rfc_100.predict_proba(X_val) \n",
        " \n",
        "# Check accuracy score \n",
        "print('Model accuracy score: {0:0.4f}'. format(accuracy_score(y_val, y_pred_rfc_100)))"
      ],
      "execution_count": 60,
      "outputs": [
        {
          "output_type": "stream",
          "name": "stdout",
          "text": [
            "Model accuracy score: 0.8526\n"
          ]
        }
      ]
    },
    {
      "cell_type": "code",
      "metadata": {
        "colab": {
          "base_uri": "https://localhost:8080/"
        },
        "id": "hXJWREcOL9C9",
        "outputId": "797eac53-1afc-4272-e9aa-836cefe4b1da"
      },
      "source": [
        "from sklearn.metrics import classification_report\n",
        "print(classification_report(y_val, y_pred_rfc_100))"
      ],
      "execution_count": 61,
      "outputs": [
        {
          "output_type": "stream",
          "name": "stdout",
          "text": [
            "              precision    recall  f1-score   support\n",
            "\n",
            "           0       0.86      0.96      0.91      4924\n",
            "           1       0.80      0.52      0.63      1584\n",
            "\n",
            "    accuracy                           0.85      6508\n",
            "   macro avg       0.83      0.74      0.77      6508\n",
            "weighted avg       0.85      0.85      0.84      6508\n",
            "\n"
          ]
        }
      ]
    },
    {
      "cell_type": "markdown",
      "metadata": {
        "id": "zr7V_UnC6RzV"
      },
      "source": [
        "## ROC AUC evaluation"
      ]
    },
    {
      "cell_type": "markdown",
      "metadata": {
        "id": "aLi_2rYr5bVt"
      },
      "source": [
        "ROC curves describe the trade-off between the true positive rate (TPR) and false positive (FPR) rate along different probability thresholds for a classifier"
      ]
    },
    {
      "cell_type": "code",
      "metadata": {
        "id": "WHXu5x4b3dtL"
      },
      "source": [
        "from sklearn.metrics import roc_curve, auc"
      ],
      "execution_count": 62,
      "outputs": []
    },
    {
      "cell_type": "code",
      "metadata": {
        "id": "HvVoK01x3iva"
      },
      "source": [
        "# get false and true positive rates\n",
        "fpr, tpr, thresholds = roc_curve(y_val, probas[:,0], pos_label=0)"
      ],
      "execution_count": 63,
      "outputs": []
    },
    {
      "cell_type": "code",
      "metadata": {
        "id": "BrjJFgvx34nX"
      },
      "source": [
        "# get area under the curve\n",
        "roc_auc = auc(fpr, tpr)"
      ],
      "execution_count": 64,
      "outputs": []
    },
    {
      "cell_type": "code",
      "metadata": {
        "colab": {
          "base_uri": "https://localhost:8080/",
          "height": 594
        },
        "id": "JkVyF2mn64EX",
        "outputId": "625ec259-cd96-44c2-af73-cd8de0bf0463"
      },
      "source": [
        "# PLOT ROC curve\n",
        "plt.figure(dpi=150)\n",
        "plt.plot(fpr, tpr, lw=1, color='green', label=f'AUC = {roc_auc:.3f}')\n",
        "plt.title('ROC Curve for RF classifier')\n",
        "plt.xlabel('False Positive Rate')\n",
        "plt.ylabel('True Positive Rate (Recall)')\n",
        "plt.xlim([-0.05, 1.05])\n",
        "plt.ylim([-0.05, 1.05])\n",
        "plt.legend()\n",
        "plt.show()"
      ],
      "execution_count": 65,
      "outputs": [
        {
          "output_type": "display_data",
          "data": {
            "image/png": "[encoded data removed]",
            "text/plain": [
              "<Figure size 900x600 with 1 Axes>"
            ]
          },
          "metadata": {
            "needs_background": "light"
          }
        }
      ]
    },
    {
      "cell_type": "markdown",
      "metadata": {
        "id": "XDPrlX7sDyjr"
      },
      "source": [
        "We achieve high TPR/Recall while maintaining a low FPR\n"
      ]
    },
    {
      "cell_type": "code",
      "metadata": {
        "colab": {
          "base_uri": "https://localhost:8080/",
          "height": 594
        },
        "id": "5FNzHRdH4S5t",
        "outputId": "11a8f11f-a5b5-4588-f189-9a1f2b756b5b"
      },
      "source": [
        "from sklearn.metrics import precision_recall_curve, average_precision_score, auc\n",
        "\n",
        "# get precision and recall values\n",
        "precision, recall, thresholds = precision_recall_curve(y_val, probas[:,0], pos_label=0)\n",
        "\n",
        "# average precision score\n",
        "avg_precision = average_precision_score(y_val, probas[:,0], pos_label=0)\n",
        "\n",
        "# precision auc\n",
        "pr_auc = auc(recall, precision)\n",
        "\n",
        "# plot\n",
        "plt.figure(dpi=150)\n",
        "plt.plot(recall, precision, lw=1, color='blue', label=f'AP={avg_precision:.3f}; AUC={pr_auc:.3f}')\n",
        "plt.fill_between(recall, precision, -1, facecolor='lightblue', alpha=0.5)\n",
        "plt.title('PR Curve for RF classifier')\n",
        "plt.xlabel('Recall (TPR)')\n",
        "plt.ylabel('Precision')\n",
        "plt.xlim([-0.05, 1.05])\n",
        "plt.ylim([-0.05, 1.05])\n",
        "plt.legend()\n",
        "plt.show()"
      ],
      "execution_count": 66,
      "outputs": [
        {
          "output_type": "display_data",
          "data": {
            "image/png": "[encoded data removed]",
            "text/plain": [
              "<Figure size 900x600 with 1 Axes>"
            ]
          },
          "metadata": {
            "needs_background": "light"
          }
        }
      ]
    },
    {
      "cell_type": "markdown",
      "metadata": {
        "id": "vIxe6XGqQwpN"
      },
      "source": [
        "we observe a high degree of precision can be maintained while maximizing recall (upper-right corner)"
      ]
    },
    {
      "cell_type": "code",
      "metadata": {
        "id": "7GU_x-YDXJ08"
      },
      "source": [
        "from sklearn.metrics import roc_auc_score"
      ],
      "execution_count": 67,
      "outputs": []
    },
    {
      "cell_type": "code",
      "metadata": {
        "colab": {
          "base_uri": "https://localhost:8080/"
        },
        "id": "AOMyt43yXLSY",
        "outputId": "f7a02f47-7862-4909-f76c-de4c41a35ae6"
      },
      "source": [
        "roc_auc_score(y_val, y_pred_rfc_100)"
      ],
      "execution_count": 68,
      "outputs": [
        {
          "output_type": "execute_result",
          "data": {
            "text/plain": [
              "0.7411785400717164"
            ]
          },
          "metadata": {},
          "execution_count": 68
        }
      ]
    },
    {
      "cell_type": "markdown",
      "metadata": {
        "id": "E7-g6elzgN0z"
      },
      "source": [
        "## Gradient Boosting\n"
      ]
    },
    {
      "cell_type": "code",
      "metadata": {
        "id": "VFAq-p1YgPUU"
      },
      "source": [
        "import xgboost as xgb"
      ],
      "execution_count": 69,
      "outputs": []
    },
    {
      "cell_type": "code",
      "metadata": {
        "id": "hGvTsqwMqGbj"
      },
      "source": [
        "features = dv.get_feature_names()\n",
        "dtrain = xgb.DMatrix(X_train, label=y_train, feature_names=features)\n",
        "dval = xgb.DMatrix(X_val, label=y_val, feature_names=features)"
      ],
      "execution_count": 70,
      "outputs": []
    },
    {
      "cell_type": "code",
      "metadata": {
        "id": "tBkWw16XqNGo"
      },
      "source": [
        "xgb_params = {\n",
        "    'eta': 0.3, \n",
        "    'max_depth': 6,\n",
        "    'min_child_weight': 1,\n",
        "    \n",
        "    'objective': 'binary:logistic',\n",
        "    'nthread': 8,\n",
        "    \n",
        "    'seed': 1,\n",
        "    'verbosity': 1,\n",
        "}\n",
        "\n",
        "model_xgb = xgb.train(xgb_params, dtrain, num_boost_round=10)"
      ],
      "execution_count": 71,
      "outputs": []
    },
    {
      "cell_type": "code",
      "metadata": {
        "id": "HnB4ZJB-qcYD"
      },
      "source": [
        "y_pred_xgb = model_xgb.predict(dval)"
      ],
      "execution_count": 72,
      "outputs": []
    },
    {
      "cell_type": "code",
      "metadata": {
        "colab": {
          "base_uri": "https://localhost:8080/"
        },
        "id": "GsO7f_W_qfv_",
        "outputId": "844ba2ce-79e9-4bce-d7e6-348f80a27d1d"
      },
      "source": [
        "roc_auc_score(y_val, y_pred_xgb)"
      ],
      "execution_count": 73,
      "outputs": [
        {
          "output_type": "execute_result",
          "data": {
            "text/plain": [
              "0.9141032712379686"
            ]
          },
          "metadata": {},
          "execution_count": 73
        }
      ]
    },
    {
      "cell_type": "code",
      "metadata": {
        "id": "9DcjSPITquag"
      },
      "source": [
        "watchlist = [(dtrain, 'train'), (dval, 'val')]"
      ],
      "execution_count": 74,
      "outputs": []
    },
    {
      "cell_type": "code",
      "metadata": {
        "id": "yLxen2evqwyl"
      },
      "source": [
        "%%capture output\n",
        "\n",
        "xgb_params = {\n",
        "    'eta': 0.3, \n",
        "    'max_depth': 6,\n",
        "    'min_child_weight': 1,\n",
        "    \n",
        "    'objective': 'binary:logistic',\n",
        "    'eval_metric': 'auc',\n",
        "\n",
        "    'nthread': 8,\n",
        "    'seed': 1,\n",
        "    'verbosity': 1,\n",
        "}\n",
        "\n",
        "model_xgb = xgb.train(xgb_params, dtrain, num_boost_round=200,\n",
        "                  verbose_eval=5,\n",
        "                  evals=watchlist)"
      ],
      "execution_count": 75,
      "outputs": []
    },
    {
      "cell_type": "code",
      "metadata": {
        "id": "GcMi9xC-qyj5"
      },
      "source": [
        "s = output.stdout"
      ],
      "execution_count": 76,
      "outputs": []
    },
    {
      "cell_type": "code",
      "metadata": {
        "colab": {
          "base_uri": "https://localhost:8080/"
        },
        "id": "ajH-cKayqzsW",
        "outputId": "d765fb37-8694-4ed7-b397-fefc61b20d87"
      },
      "source": [
        "print(s[:200])"
      ],
      "execution_count": 77,
      "outputs": [
        {
          "output_type": "stream",
          "name": "stdout",
          "text": [
            "[0]\ttrain-auc:0.901731\tval-auc:0.890697\n",
            "[5]\ttrain-auc:0.921369\tval-auc:0.90869\n",
            "[10]\ttrain-auc:0.93085\tval-auc:0.914868\n",
            "[15]\ttrain-auc:0.936222\tval-auc:0.917536\n",
            "[20]\ttrain-auc:0.9411\tval-auc:0.919603\n",
            "[\n"
          ]
        }
      ]
    },
    {
      "cell_type": "code",
      "metadata": {
        "id": "KOdGmqIrq1vD"
      },
      "source": [
        "def parse_xgb_output(output):\n",
        "    results = []\n",
        "\n",
        "    for line in output.stdout.strip().split('\\n'):\n",
        "        it_line, train_line, val_line = line.split('\\t')\n",
        "\n",
        "        it = int(it_line.strip('[]'))\n",
        "        train = float(train_line.split(':')[1])\n",
        "        val = float(val_line.split(':')[1])\n",
        "\n",
        "        results.append((it, train, val))\n",
        "    \n",
        "    columns = ['num_iter', 'train_auc', 'val_auc']\n",
        "    df_results = pd.DataFrame(results, columns=columns)\n",
        "    return df_results"
      ],
      "execution_count": 78,
      "outputs": []
    },
    {
      "cell_type": "code",
      "metadata": {
        "id": "CeFve4A9q3Sk"
      },
      "source": [
        "df_score = parse_xgb_output(output)"
      ],
      "execution_count": 79,
      "outputs": []
    },
    {
      "cell_type": "code",
      "metadata": {
        "colab": {
          "base_uri": "https://localhost:8080/",
          "height": 282
        },
        "id": "18zFqgcVq6pi",
        "outputId": "d2250f16-8349-460c-9368-438cbc7e4ef4"
      },
      "source": [
        "plt.plot(df_score.num_iter, df_score.train_auc, label='train')\n",
        "plt.plot(df_score.num_iter, df_score.val_auc, label='val')\n",
        "plt.legend()"
      ],
      "execution_count": 80,
      "outputs": [
        {
          "output_type": "execute_result",
          "data": {
            "text/plain": [
              "<matplotlib.legend.Legend at 0x7f20dc64edd0>"
            ]
          },
          "metadata": {},
          "execution_count": 80
        },
        {
          "output_type": "display_data",
          "data": {
            "image/png": "[encoded data removed]",
            "text/plain": [
              "<Figure size 432x288 with 1 Axes>"
            ]
          },
          "metadata": {
            "needs_background": "light"
          }
        }
      ]
    },
    {
      "cell_type": "code",
      "metadata": {
        "colab": {
          "base_uri": "https://localhost:8080/",
          "height": 282
        },
        "id": "QNBOPyIwrMa6",
        "outputId": "c37ae1d3-33d6-427d-a852-368bac460d7b"
      },
      "source": [
        "plt.plot(df_score.num_iter, df_score.val_auc, label='val')\n",
        "plt.legend()"
      ],
      "execution_count": 81,
      "outputs": [
        {
          "output_type": "execute_result",
          "data": {
            "text/plain": [
              "<matplotlib.legend.Legend at 0x7f20dc670250>"
            ]
          },
          "metadata": {},
          "execution_count": 81
        },
        {
          "output_type": "display_data",
          "data": {
            "image/png": "[encoded data removed]",
            "text/plain": [
              "<Figure size 432x288 with 1 Axes>"
            ]
          },
          "metadata": {
            "needs_background": "light"
          }
        }
      ]
    },
    {
      "cell_type": "markdown",
      "metadata": {
        "id": "wd_IFrWhrbSt"
      },
      "source": [
        "XGBoost parameter tuning"
      ]
    },
    {
      "cell_type": "markdown",
      "metadata": {
        "id": "gdC-TI4AsFui"
      },
      "source": [
        "tuning the following parameters:\n",
        "\n",
        "- eta\n",
        "- max_depth\n",
        "- min_child_weight"
      ]
    },
    {
      "cell_type": "code",
      "metadata": {
        "id": "S7YvNQF4rb-C"
      },
      "source": [
        "scores = {}"
      ],
      "execution_count": 283,
      "outputs": []
    },
    {
      "cell_type": "code",
      "metadata": {
        "id": "W55Q7g9nsLvi"
      },
      "source": [
        "%%capture output\n",
        "\n",
        "xgb_params = {\n",
        "    'eta': 0.1, \n",
        "    'max_depth': 6,\n",
        "    'min_child_weight': 1,\n",
        "    \n",
        "    'objective': 'binary:logistic',\n",
        "    'eval_metric': 'auc',\n",
        "\n",
        "    'nthread': 8,\n",
        "    'seed': 1,\n",
        "    'verbosity': 1,\n",
        "}\n",
        "\n",
        "model_xgb = xgb.train(xgb_params, dtrain, num_boost_round=200,\n",
        "                  verbose_eval=5,\n",
        "                  evals=watchlist)"
      ],
      "execution_count": 284,
      "outputs": []
    },
    {
      "cell_type": "code",
      "metadata": {
        "colab": {
          "base_uri": "https://localhost:8080/",
          "height": 35
        },
        "id": "OfpBUCaNsQ9B",
        "outputId": "3abfc180-8751-4d43-c8b7-3c0378aba494"
      },
      "source": [
        "key = 'eta=%s' % (xgb_params['eta'])\n",
        "scores[key] = parse_xgb_output(output)\n",
        "key"
      ],
      "execution_count": 285,
      "outputs": [
        {
          "output_type": "execute_result",
          "data": {
            "application/vnd.google.colaboratory.intrinsic+json": {
              "type": "string"
            },
            "text/plain": [
              "'eta=0.1'"
            ]
          },
          "metadata": {},
          "execution_count": 285
        }
      ]
    },
    {
      "cell_type": "code",
      "metadata": {
        "id": "C0nBp6EAwlpW"
      },
      "source": [
        "%%capture output\n",
        "\n",
        "xgb_params = {\n",
        "    'eta': 0.01, \n",
        "    'max_depth': 6,\n",
        "    'min_child_weight': 1,\n",
        "    \n",
        "    'objective': 'binary:logistic',\n",
        "    'eval_metric': 'auc',\n",
        "\n",
        "    'nthread': 8,\n",
        "    'seed': 1,\n",
        "    'verbosity': 1,\n",
        "}\n",
        "\n",
        "model_xgb = xgb.train(xgb_params, dtrain, num_boost_round=200,\n",
        "                  verbose_eval=5,\n",
        "                  evals=watchlist)"
      ],
      "execution_count": 286,
      "outputs": []
    },
    {
      "cell_type": "code",
      "metadata": {
        "colab": {
          "base_uri": "https://localhost:8080/",
          "height": 35
        },
        "id": "xZA370XowpxZ",
        "outputId": "af0f6f5f-604d-479a-9d3a-b0c75a6ed183"
      },
      "source": [
        "key = 'eta=%s' % (xgb_params['eta'])\n",
        "scores[key] = parse_xgb_output(output)\n",
        "key"
      ],
      "execution_count": 287,
      "outputs": [
        {
          "output_type": "execute_result",
          "data": {
            "application/vnd.google.colaboratory.intrinsic+json": {
              "type": "string"
            },
            "text/plain": [
              "'eta=0.01'"
            ]
          },
          "metadata": {},
          "execution_count": 287
        }
      ]
    },
    {
      "cell_type": "code",
      "metadata": {
        "id": "7X_AX4YFbdtw"
      },
      "source": [
        "%%capture output\n",
        "\n",
        "xgb_params = {\n",
        "    'eta': 0.05, \n",
        "    'max_depth': 6,\n",
        "    'min_child_weight': 1,\n",
        "    \n",
        "    'objective': 'binary:logistic',\n",
        "    'eval_metric': 'auc',\n",
        "\n",
        "    'nthread': 8,\n",
        "    'seed': 1,\n",
        "    'verbosity': 1,\n",
        "}\n",
        "\n",
        "model_xgb = xgb.train(xgb_params, dtrain, num_boost_round=200,\n",
        "                  verbose_eval=5,\n",
        "                  evals=watchlist)"
      ],
      "execution_count": 291,
      "outputs": []
    },
    {
      "cell_type": "code",
      "metadata": {
        "colab": {
          "base_uri": "https://localhost:8080/",
          "height": 35
        },
        "id": "-jnhEbPpbe6p",
        "outputId": "78f2bc1a-d934-4674-9870-bc4a8bfe99c5"
      },
      "source": [
        "key = 'eta=%s' % (xgb_params['eta'])\n",
        "scores[key] = parse_xgb_output(output)\n",
        "key"
      ],
      "execution_count": 292,
      "outputs": [
        {
          "output_type": "execute_result",
          "data": {
            "application/vnd.google.colaboratory.intrinsic+json": {
              "type": "string"
            },
            "text/plain": [
              "'eta=0.05'"
            ]
          },
          "metadata": {},
          "execution_count": 292
        }
      ]
    },
    {
      "cell_type": "code",
      "metadata": {
        "colab": {
          "base_uri": "https://localhost:8080/",
          "height": 282
        },
        "id": "yP7BcFO7wkH6",
        "outputId": "8b055a2e-94af-41ad-9958-0a3a581ee853"
      },
      "source": [
        "for max_depth, df_score in scores.items():\n",
        "    plt.plot(df_score.num_iter, df_score.val_auc, label=max_depth)\n",
        "\n",
        "plt.ylim(0.8, 0.95)\n",
        "plt.legend()"
      ],
      "execution_count": 293,
      "outputs": [
        {
          "output_type": "execute_result",
          "data": {
            "text/plain": [
              "<matplotlib.legend.Legend at 0x7f20cf2c8690>"
            ]
          },
          "metadata": {},
          "execution_count": 293
        },
        {
          "output_type": "display_data",
          "data": {
            "image/png": "[encoded data removed]",
            "text/plain": [
              "<Figure size 432x288 with 1 Axes>"
            ]
          },
          "metadata": {
            "needs_background": "light"
          }
        }
      ]
    },
    {
      "cell_type": "code",
      "metadata": {
        "id": "zM_9SSibwg9S"
      },
      "source": [
        "scores = {}"
      ],
      "execution_count": 88,
      "outputs": []
    },
    {
      "cell_type": "code",
      "metadata": {
        "id": "Al_CAR-usi_a"
      },
      "source": [
        "%%capture output\n",
        "\n",
        "xgb_params = {\n",
        "    'eta': 0.1, \n",
        "    'max_depth': 10,\n",
        "    'min_child_weight': 1,\n",
        "    \n",
        "    'objective': 'binary:logistic',\n",
        "    'eval_metric': 'auc',\n",
        "\n",
        "    'nthread': 8,\n",
        "    'seed': 1,\n",
        "    'verbosity': 1,\n",
        "}\n",
        "\n",
        "model_xgb = xgb.train(xgb_params, dtrain, num_boost_round=200,\n",
        "                  verbose_eval=5,\n",
        "                  evals=watchlist)"
      ],
      "execution_count": 89,
      "outputs": []
    },
    {
      "cell_type": "code",
      "metadata": {
        "colab": {
          "base_uri": "https://localhost:8080/",
          "height": 35
        },
        "id": "kJqVQ3F4sk1w",
        "outputId": "b9e1c06d-c558-416b-b9f8-6612d03c6c18"
      },
      "source": [
        "key = 'max_depth=%s' % (xgb_params['max_depth'])\n",
        "scores[key] = parse_xgb_output(output)\n",
        "key"
      ],
      "execution_count": 90,
      "outputs": [
        {
          "output_type": "execute_result",
          "data": {
            "application/vnd.google.colaboratory.intrinsic+json": {
              "type": "string"
            },
            "text/plain": [
              "'max_depth=10'"
            ]
          },
          "metadata": {},
          "execution_count": 90
        }
      ]
    },
    {
      "cell_type": "code",
      "metadata": {
        "id": "y_dWR_awvfZv"
      },
      "source": [
        "%%capture output\n",
        "\n",
        "xgb_params = {\n",
        "    'eta': 0.1, \n",
        "    'max_depth': 6,\n",
        "    'min_child_weight': 1,\n",
        "    \n",
        "    'objective': 'binary:logistic',\n",
        "    'eval_metric': 'auc',\n",
        "\n",
        "    'nthread': 8,\n",
        "    'seed': 1,\n",
        "    'verbosity': 1,\n",
        "}\n",
        "\n",
        "model_xgb = xgb.train(xgb_params, dtrain, num_boost_round=200,\n",
        "                  verbose_eval=5,\n",
        "                  evals=watchlist)"
      ],
      "execution_count": 91,
      "outputs": []
    },
    {
      "cell_type": "code",
      "metadata": {
        "colab": {
          "base_uri": "https://localhost:8080/",
          "height": 35
        },
        "id": "BSM1z7Bcvgds",
        "outputId": "df9bfd07-665c-4de8-9ec8-c714d820cc97"
      },
      "source": [
        "key = 'max_depth=%s' % (xgb_params['max_depth'])\n",
        "scores[key] = parse_xgb_output(output)\n",
        "key"
      ],
      "execution_count": 92,
      "outputs": [
        {
          "output_type": "execute_result",
          "data": {
            "application/vnd.google.colaboratory.intrinsic+json": {
              "type": "string"
            },
            "text/plain": [
              "'max_depth=6'"
            ]
          },
          "metadata": {},
          "execution_count": 92
        }
      ]
    },
    {
      "cell_type": "code",
      "metadata": {
        "id": "SfRsSRG2uBt9"
      },
      "source": [
        "%%capture output\n",
        "\n",
        "xgb_params = {\n",
        "    'eta': 0.1, \n",
        "    'max_depth': 3,\n",
        "    'min_child_weight': 1,\n",
        "    \n",
        "    'objective': 'binary:logistic',\n",
        "    'eval_metric': 'auc',\n",
        "\n",
        "    'nthread': 8,\n",
        "    'seed': 1,\n",
        "    'verbosity': 1,\n",
        "}\n",
        "\n",
        "model_xgb = xgb.train(xgb_params, dtrain, num_boost_round=200,\n",
        "                  verbose_eval=5,\n",
        "                  evals=watchlist)"
      ],
      "execution_count": 93,
      "outputs": []
    },
    {
      "cell_type": "code",
      "metadata": {
        "colab": {
          "base_uri": "https://localhost:8080/",
          "height": 35
        },
        "id": "nUZhoo65uzAg",
        "outputId": "ada51225-f846-4301-ccd5-724639cd487e"
      },
      "source": [
        "key = 'max_depth=%s' % (xgb_params['max_depth'])\n",
        "scores[key] = parse_xgb_output(output)\n",
        "key"
      ],
      "execution_count": 94,
      "outputs": [
        {
          "output_type": "execute_result",
          "data": {
            "application/vnd.google.colaboratory.intrinsic+json": {
              "type": "string"
            },
            "text/plain": [
              "'max_depth=3'"
            ]
          },
          "metadata": {},
          "execution_count": 94
        }
      ]
    },
    {
      "cell_type": "code",
      "metadata": {
        "colab": {
          "base_uri": "https://localhost:8080/",
          "height": 282
        },
        "id": "6AIy2hzWspEI",
        "outputId": "101f72c6-6ada-4fd3-b434-af71558bac20"
      },
      "source": [
        "for max_depth, df_score in scores.items():\n",
        "    plt.plot(df_score.num_iter, df_score.val_auc, label=max_depth)\n",
        "\n",
        "plt.ylim(0.8, 0.95)\n",
        "plt.legend()"
      ],
      "execution_count": 95,
      "outputs": [
        {
          "output_type": "execute_result",
          "data": {
            "text/plain": [
              "<matplotlib.legend.Legend at 0x7f20dc4f7a50>"
            ]
          },
          "metadata": {},
          "execution_count": 95
        },
        {
          "output_type": "display_data",
          "data": {
            "image/png": "[encoded data removed]",
            "text/plain": [
              "<Figure size 432x288 with 1 Axes>"
            ]
          },
          "metadata": {
            "needs_background": "light"
          }
        }
      ]
    },
    {
      "cell_type": "code",
      "metadata": {
        "id": "7lXZdm46v84c"
      },
      "source": [
        "scores = {}"
      ],
      "execution_count": 96,
      "outputs": []
    },
    {
      "cell_type": "code",
      "metadata": {
        "id": "78TSmmsFwOqp"
      },
      "source": [
        "%%capture output\n",
        "\n",
        "xgb_params = {\n",
        "    'eta': 0.1, \n",
        "    'max_depth': 3,\n",
        "    'min_child_weight': 1,\n",
        "    \n",
        "    'objective': 'binary:logistic',\n",
        "    'eval_metric': 'auc',\n",
        "\n",
        "    'nthread': 8,\n",
        "    'seed': 1,\n",
        "    'verbosity': 1,\n",
        "}\n",
        "\n",
        "model = xgb.train(xgb_params, dtrain, num_boost_round=200,\n",
        "                  verbose_eval=5,\n",
        "                  evals=watchlist)"
      ],
      "execution_count": 97,
      "outputs": []
    },
    {
      "cell_type": "code",
      "metadata": {
        "colab": {
          "base_uri": "https://localhost:8080/",
          "height": 35
        },
        "id": "4vAfJNI3wRnr",
        "outputId": "861a7b34-3038-4500-e662-381dfc872aca"
      },
      "source": [
        "key = 'min_child_weight=%s' % (xgb_params['min_child_weight'])\n",
        "scores[key] = parse_xgb_output(output)\n",
        "key"
      ],
      "execution_count": 98,
      "outputs": [
        {
          "output_type": "execute_result",
          "data": {
            "application/vnd.google.colaboratory.intrinsic+json": {
              "type": "string"
            },
            "text/plain": [
              "'min_child_weight=1'"
            ]
          },
          "metadata": {},
          "execution_count": 98
        }
      ]
    },
    {
      "cell_type": "code",
      "metadata": {
        "id": "N640aVEWwTyh"
      },
      "source": [
        "%%capture output\n",
        "\n",
        "xgb_params = {\n",
        "    'eta': 0.1, \n",
        "    'max_depth': 3,\n",
        "    'min_child_weight': 10,\n",
        "    \n",
        "    'objective': 'binary:logistic',\n",
        "    'eval_metric': 'auc',\n",
        "\n",
        "    'nthread': 8,\n",
        "    'seed': 1,\n",
        "    'verbosity': 1,\n",
        "}\n",
        "\n",
        "model = xgb.train(xgb_params, dtrain, num_boost_round=200,\n",
        "                  verbose_eval=5,\n",
        "                  evals=watchlist)"
      ],
      "execution_count": 99,
      "outputs": []
    },
    {
      "cell_type": "code",
      "metadata": {
        "colab": {
          "base_uri": "https://localhost:8080/",
          "height": 35
        },
        "id": "x7UIrlhrwUyO",
        "outputId": "04b0266f-881b-497a-93e6-9eebe9f14e2b"
      },
      "source": [
        "key = 'min_child_weight=%s' % (xgb_params['min_child_weight'])\n",
        "scores[key] = parse_xgb_output(output)\n",
        "key"
      ],
      "execution_count": 100,
      "outputs": [
        {
          "output_type": "execute_result",
          "data": {
            "application/vnd.google.colaboratory.intrinsic+json": {
              "type": "string"
            },
            "text/plain": [
              "'min_child_weight=10'"
            ]
          },
          "metadata": {},
          "execution_count": 100
        }
      ]
    },
    {
      "cell_type": "code",
      "metadata": {
        "id": "YLkrrcyJv-Mp"
      },
      "source": [
        "%%capture output\n",
        "\n",
        "xgb_params = {\n",
        "    'eta': 0.1, \n",
        "    'max_depth': 3,\n",
        "    'min_child_weight': 30,\n",
        "    \n",
        "    'objective': 'binary:logistic',\n",
        "    'eval_metric': 'auc',\n",
        "\n",
        "    'nthread': 8,\n",
        "    'seed': 1,\n",
        "    'verbosity': 1,\n",
        "}\n",
        "\n",
        "model = xgb.train(xgb_params, dtrain, num_boost_round=200,\n",
        "                  verbose_eval=5,\n",
        "                  evals=watchlist)"
      ],
      "execution_count": 101,
      "outputs": []
    },
    {
      "cell_type": "code",
      "metadata": {
        "colab": {
          "base_uri": "https://localhost:8080/",
          "height": 35
        },
        "id": "2e7i5GTav_wE",
        "outputId": "28b33c8d-e102-4580-ad50-7976719f6660"
      },
      "source": [
        "key = 'min_child_weight=%s' % (xgb_params['min_child_weight'])\n",
        "scores[key] = parse_xgb_output(output)\n",
        "key"
      ],
      "execution_count": 102,
      "outputs": [
        {
          "output_type": "execute_result",
          "data": {
            "application/vnd.google.colaboratory.intrinsic+json": {
              "type": "string"
            },
            "text/plain": [
              "'min_child_weight=30'"
            ]
          },
          "metadata": {},
          "execution_count": 102
        }
      ]
    },
    {
      "cell_type": "code",
      "metadata": {
        "colab": {
          "base_uri": "https://localhost:8080/",
          "height": 282
        },
        "id": "EHHOyc0xwCiv",
        "outputId": "fa231279-508d-48a8-d2d3-ede9308bb271"
      },
      "source": [
        "for min_child_weight, df_score in scores.items():\n",
        "    plt.plot(df_score.num_iter, df_score.val_auc, label=min_child_weight)\n",
        "\n",
        "plt.ylim(0.82, 0.95)\n",
        "plt.legend()"
      ],
      "execution_count": 103,
      "outputs": [
        {
          "output_type": "execute_result",
          "data": {
            "text/plain": [
              "<matplotlib.legend.Legend at 0x7f20dc41f510>"
            ]
          },
          "metadata": {},
          "execution_count": 103
        },
        {
          "output_type": "display_data",
          "data": {
            "image/png": "[encoded data removed]",
            "text/plain": [
              "<Figure size 432x288 with 1 Axes>"
            ]
          },
          "metadata": {
            "needs_background": "light"
          }
        }
      ]
    },
    {
      "cell_type": "markdown",
      "metadata": {
        "id": "Z9BTyjkyxw9g"
      },
      "source": [
        "# Selecting the final model\n",
        "\n"
      ]
    },
    {
      "cell_type": "markdown",
      "metadata": {
        "id": "IDHDvtKYyUZ6"
      },
      "source": [
        "xgboost"
      ]
    },
    {
      "cell_type": "markdown",
      "metadata": {
        "id": "V7QcZU7beqko"
      },
      "source": [
        "Instead of using the whole training set every time, we can build a tree on slightly different data at each step, which makes it less likely to overfit to a single sample or feature.\n",
        "\n",
        "* subsample corresponds to the fraction of observations (the rows) to subsample at each step. By default it is set to 1 meaning that we use all rows.\n",
        "* colsample_bytree corresponds to the fraction of features (the columns) to use. By default it is set to 1 meaning that we will use all features."
      ]
    },
    {
      "cell_type": "code",
      "metadata": {
        "id": "ktu7jNxNxbqv"
      },
      "source": [
        "xgb_params = {\n",
        "    'eta': 0.1, \n",
        "    'max_depth': 6,\n",
        "    'min_child_weight': 1,\n",
        "\n",
        "    'objective': 'binary:logistic',\n",
        "    'eval_metric': 'auc',\n",
        "\n",
        "    'colsample_bytree': 1.0,\n",
        "    'subsample': 0.8,\n",
        "\n",
        "    'nthread': 8,\n",
        "    'seed': 1,\n",
        "    'verbosity': 1,\n",
        "}"
      ],
      "execution_count": 326,
      "outputs": []
    },
    {
      "cell_type": "markdown",
      "metadata": {
        "id": "suaDmGuKa16r"
      },
      "source": [
        "In order to automatically find the best number of boosting rounds, we need to pass extra parameters on top of the params dictionary, the training DMatrix and num_boost_round:\n",
        "* evals: a list of pairs (test_dmatrix, name_of_test). Here we will use our dtest DMatrix.\n",
        "* early_stopping_rounds: The number of rounds without improvements after which we should stop, here we set it to 10."
      ]
    },
    {
      "cell_type": "code",
      "metadata": {
        "colab": {
          "base_uri": "https://localhost:8080/"
        },
        "id": "l9W5da3Z0lqn",
        "outputId": "ae7923b3-2938-4aa6-bbaf-2437b3e69e00"
      },
      "source": [
        "model_xgb = xgb.train(xgb_params, dtrain, num_boost_round=175, evals=[(dval, \"valid\")], early_stopping_rounds=10)"
      ],
      "execution_count": 327,
      "outputs": [
        {
          "output_type": "stream",
          "name": "stdout",
          "text": [
            "[0]\tvalid-auc:0.891426\n",
            "Will train until valid-auc hasn't improved in 10 rounds.\n",
            "[1]\tvalid-auc:0.897493\n",
            "[2]\tvalid-auc:0.898035\n",
            "[3]\tvalid-auc:0.89993\n",
            "[4]\tvalid-auc:0.900877\n",
            "[5]\tvalid-auc:0.901397\n",
            "[6]\tvalid-auc:0.902062\n",
            "[7]\tvalid-auc:0.903051\n",
            "[8]\tvalid-auc:0.904066\n",
            "[9]\tvalid-auc:0.904255\n",
            "[10]\tvalid-auc:0.905469\n",
            "[11]\tvalid-auc:0.90565\n",
            "[12]\tvalid-auc:0.906162\n",
            "[13]\tvalid-auc:0.906821\n",
            "[14]\tvalid-auc:0.90755\n",
            "[15]\tvalid-auc:0.907985\n",
            "[16]\tvalid-auc:0.909107\n",
            "[17]\tvalid-auc:0.909742\n",
            "[18]\tvalid-auc:0.910092\n",
            "[19]\tvalid-auc:0.910518\n",
            "[20]\tvalid-auc:0.9109\n",
            "[21]\tvalid-auc:0.91159\n",
            "[22]\tvalid-auc:0.912092\n",
            "[23]\tvalid-auc:0.912552\n",
            "[24]\tvalid-auc:0.912923\n",
            "[25]\tvalid-auc:0.913198\n",
            "[26]\tvalid-auc:0.913454\n",
            "[27]\tvalid-auc:0.913619\n",
            "[28]\tvalid-auc:0.913802\n",
            "[29]\tvalid-auc:0.914038\n",
            "[30]\tvalid-auc:0.914443\n",
            "[31]\tvalid-auc:0.914802\n",
            "[32]\tvalid-auc:0.914834\n",
            "[33]\tvalid-auc:0.915067\n",
            "[34]\tvalid-auc:0.91539\n",
            "[35]\tvalid-auc:0.915786\n",
            "[36]\tvalid-auc:0.916093\n",
            "[37]\tvalid-auc:0.916311\n",
            "[38]\tvalid-auc:0.916491\n",
            "[39]\tvalid-auc:0.916516\n",
            "[40]\tvalid-auc:0.916912\n",
            "[41]\tvalid-auc:0.917171\n",
            "[42]\tvalid-auc:0.917766\n",
            "[43]\tvalid-auc:0.917836\n",
            "[44]\tvalid-auc:0.91789\n",
            "[45]\tvalid-auc:0.918001\n",
            "[46]\tvalid-auc:0.918445\n",
            "[47]\tvalid-auc:0.918685\n",
            "[48]\tvalid-auc:0.918716\n",
            "[49]\tvalid-auc:0.91892\n",
            "[50]\tvalid-auc:0.919172\n",
            "[51]\tvalid-auc:0.919143\n",
            "[52]\tvalid-auc:0.919499\n",
            "[53]\tvalid-auc:0.919531\n",
            "[54]\tvalid-auc:0.919437\n",
            "[55]\tvalid-auc:0.919727\n",
            "[56]\tvalid-auc:0.919733\n",
            "[57]\tvalid-auc:0.92005\n",
            "[58]\tvalid-auc:0.920235\n",
            "[59]\tvalid-auc:0.920163\n",
            "[60]\tvalid-auc:0.920123\n",
            "[61]\tvalid-auc:0.920196\n",
            "[62]\tvalid-auc:0.920353\n",
            "[63]\tvalid-auc:0.920311\n",
            "[64]\tvalid-auc:0.920506\n",
            "[65]\tvalid-auc:0.920568\n",
            "[66]\tvalid-auc:0.920595\n",
            "[67]\tvalid-auc:0.920609\n",
            "[68]\tvalid-auc:0.920465\n",
            "[69]\tvalid-auc:0.920465\n",
            "[70]\tvalid-auc:0.920488\n",
            "[71]\tvalid-auc:0.920714\n",
            "[72]\tvalid-auc:0.920613\n",
            "[73]\tvalid-auc:0.92058\n",
            "[74]\tvalid-auc:0.920717\n",
            "[75]\tvalid-auc:0.920945\n",
            "[76]\tvalid-auc:0.920992\n",
            "[77]\tvalid-auc:0.921028\n",
            "[78]\tvalid-auc:0.921129\n",
            "[79]\tvalid-auc:0.921163\n",
            "[80]\tvalid-auc:0.921173\n",
            "[81]\tvalid-auc:0.921192\n",
            "[82]\tvalid-auc:0.921333\n",
            "[83]\tvalid-auc:0.921277\n",
            "[84]\tvalid-auc:0.921225\n",
            "[85]\tvalid-auc:0.921293\n",
            "[86]\tvalid-auc:0.921372\n",
            "[87]\tvalid-auc:0.921376\n",
            "[88]\tvalid-auc:0.921431\n",
            "[89]\tvalid-auc:0.92162\n",
            "[90]\tvalid-auc:0.921589\n",
            "[91]\tvalid-auc:0.921536\n",
            "[92]\tvalid-auc:0.9217\n",
            "[93]\tvalid-auc:0.921818\n",
            "[94]\tvalid-auc:0.921872\n",
            "[95]\tvalid-auc:0.921875\n",
            "[96]\tvalid-auc:0.92187\n",
            "[97]\tvalid-auc:0.921945\n",
            "[98]\tvalid-auc:0.922007\n",
            "[99]\tvalid-auc:0.922019\n",
            "[100]\tvalid-auc:0.922109\n",
            "[101]\tvalid-auc:0.922106\n",
            "[102]\tvalid-auc:0.922088\n",
            "[103]\tvalid-auc:0.922109\n",
            "[104]\tvalid-auc:0.922097\n",
            "[105]\tvalid-auc:0.922123\n",
            "[106]\tvalid-auc:0.922115\n",
            "[107]\tvalid-auc:0.9221\n",
            "[108]\tvalid-auc:0.921997\n",
            "[109]\tvalid-auc:0.92212\n",
            "[110]\tvalid-auc:0.922191\n",
            "[111]\tvalid-auc:0.922194\n",
            "[112]\tvalid-auc:0.922145\n",
            "[113]\tvalid-auc:0.92202\n",
            "[114]\tvalid-auc:0.922025\n",
            "[115]\tvalid-auc:0.92217\n",
            "[116]\tvalid-auc:0.922203\n",
            "[117]\tvalid-auc:0.922219\n",
            "[118]\tvalid-auc:0.922397\n",
            "[119]\tvalid-auc:0.922557\n",
            "[120]\tvalid-auc:0.922572\n",
            "[121]\tvalid-auc:0.922468\n",
            "[122]\tvalid-auc:0.922562\n",
            "[123]\tvalid-auc:0.922492\n",
            "[124]\tvalid-auc:0.922454\n",
            "[125]\tvalid-auc:0.922407\n",
            "[126]\tvalid-auc:0.922539\n",
            "[127]\tvalid-auc:0.922432\n",
            "[128]\tvalid-auc:0.922457\n",
            "[129]\tvalid-auc:0.92242\n",
            "[130]\tvalid-auc:0.922292\n",
            "Stopping. Best iteration:\n",
            "[120]\tvalid-auc:0.922572\n",
            "\n"
          ]
        }
      ]
    },
    {
      "cell_type": "code",
      "metadata": {
        "colab": {
          "base_uri": "https://localhost:8080/"
        },
        "id": "c16WBx2_x4VZ",
        "outputId": "b85611ef-4f50-4c86-8811-da7188d4758a"
      },
      "source": [
        "y_pred_xgb = model_xgb.predict(dval)\n",
        "roc_auc_score(y_val, y_pred_xgb)"
      ],
      "execution_count": 328,
      "outputs": [
        {
          "output_type": "execute_result",
          "data": {
            "text/plain": [
              "0.9222921359205376"
            ]
          },
          "metadata": {},
          "execution_count": 328
        }
      ]
    },
    {
      "cell_type": "markdown",
      "metadata": {
        "id": "0bsvH9pgAeVZ"
      },
      "source": [
        "# Save the model"
      ]
    },
    {
      "cell_type": "code",
      "metadata": {
        "colab": {
          "base_uri": "https://localhost:8080/"
        },
        "id": "yTwfSUa-0uwU",
        "outputId": "c1ade12d-349d-4987-cba4-df036a6c7935"
      },
      "source": [
        "print(xgb.__version__)"
      ],
      "execution_count": 334,
      "outputs": [
        {
          "output_type": "stream",
          "name": "stdout",
          "text": [
            "0.90\n"
          ]
        }
      ]
    },
    {
      "cell_type": "code",
      "metadata": {
        "id": "flaDmcIR0H3z"
      },
      "source": [
        "import pickle"
      ],
      "execution_count": 335,
      "outputs": []
    },
    {
      "cell_type": "code",
      "metadata": {
        "id": "0plpp4V3gemR"
      },
      "source": [
        "output_file_xgb = f'model_I_xgb.bin'"
      ],
      "execution_count": 336,
      "outputs": []
    },
    {
      "cell_type": "code",
      "metadata": {
        "id": "fFzYGSO0-2B5"
      },
      "source": [
        "f_out = open(output_file_xgb, 'wb') \n",
        "pickle.dump((dv, model_xgb), f_out)\n",
        "f_out.close()"
      ],
      "execution_count": 337,
      "outputs": []
    },
    {
      "cell_type": "code",
      "metadata": {
        "colab": {
          "base_uri": "https://localhost:8080/"
        },
        "id": "74VCJKtF_J3_",
        "outputId": "c38bfdc5-e28d-428e-b36b-0c6946d0f01e"
      },
      "source": [
        "!ls"
      ],
      "execution_count": 338,
      "outputs": [
        {
          "output_type": "stream",
          "name": "stdout",
          "text": [
            "model_I_xgb.bin  sample_data\n"
          ]
        }
      ]
    },
    {
      "cell_type": "markdown",
      "metadata": {
        "id": "LFltF3i0AJnL"
      },
      "source": [
        "Import and use model"
      ]
    },
    {
      "cell_type": "code",
      "metadata": {
        "id": "RTjaAO81AGEk"
      },
      "source": [
        "input_file = 'model_I_xgb.bin'"
      ],
      "execution_count": 339,
      "outputs": []
    },
    {
      "cell_type": "code",
      "metadata": {
        "id": "lGsE_x023ZKi"
      },
      "source": [
        "with open(input_file, 'rb') as f_in:\n",
        "    dv_loaded, model_loaded = pickle.load(f_in)"
      ],
      "execution_count": 340,
      "outputs": []
    },
    {
      "cell_type": "code",
      "metadata": {
        "colab": {
          "base_uri": "https://localhost:8080/"
        },
        "id": "_Z558ccKAIek",
        "outputId": "d2610a21-e2af-4c8a-f43e-1f29d4b3f173"
      },
      "source": [
        "model_loaded"
      ],
      "execution_count": 341,
      "outputs": [
        {
          "output_type": "execute_result",
          "data": {
            "text/plain": [
              "<xgboost.core.Booster at 0x7f20cf1f4590>"
            ]
          },
          "metadata": {},
          "execution_count": 341
        }
      ]
    },
    {
      "cell_type": "code",
      "metadata": {
        "id": "HpzuYJgWBhIc"
      },
      "source": [
        "# 'workclass', 'education', 'marital-status', 'occupation', 'relationship', 'race', 'sex', 'native-country'\n",
        "# \"age\",\t\"fnlwgt\",\t\"education-num\",\t\"capital-gain\", \"capital-loss\", \"hours-per-week\"\n",
        "\n",
        "person = {\n",
        "    'age': 45,\n",
        "    'workclass': 'private',\n",
        "    'fnlwgt': 209642,\n",
        "    'education': 'masters',\n",
        "    'education-num': 14,\n",
        "    'marital-status': 'married-civ-spouse',\n",
        "    'occupation': 'exec-managerial',\n",
        "    'relationship': 'husband',\n",
        "    'race': 'white',\n",
        "    'sex': 'male',\n",
        "    'capital-gain': 0,\n",
        "    'capital-loss': 0,\n",
        "    'hours-per-week': 45,\n",
        "    'native-country': 'united-states'\n",
        "}\n",
        "\n"
      ],
      "execution_count": 342,
      "outputs": []
    },
    {
      "cell_type": "code",
      "metadata": {
        "id": "6LHv_g-HDCJV"
      },
      "source": [
        "X = dv_loaded.transform([person])"
      ],
      "execution_count": 343,
      "outputs": []
    },
    {
      "cell_type": "code",
      "metadata": {
        "id": "W0zVYtK1mO_k"
      },
      "source": [
        "model_features = model_loaded.feature_names"
      ],
      "execution_count": 344,
      "outputs": []
    },
    {
      "cell_type": "code",
      "metadata": {
        "id": "C2NgwIElHg3-"
      },
      "source": [
        "dval_o = xgb.DMatrix(X, feature_names=model_features)\n",
        "y_pred_o = model_loaded.predict(dval_o, ntree_limit=model_loaded.best_iteration)"
      ],
      "execution_count": 345,
      "outputs": []
    },
    {
      "cell_type": "code",
      "metadata": {
        "colab": {
          "base_uri": "https://localhost:8080/"
        },
        "id": "BzmEpwknHqCL",
        "outputId": "4a581900-9503-4042-b317-36b2e717a349"
      },
      "source": [
        "print('input:', person)\n",
        "print('output:', y_pred_o)"
      ],
      "execution_count": 346,
      "outputs": [
        {
          "output_type": "stream",
          "name": "stdout",
          "text": [
            "input: {'age': 45, 'workclass': 'private', 'fnlwgt': 209642, 'education': 'masters', 'education-num': 14, 'marital-status': 'married-civ-spouse', 'occupation': 'exec-managerial', 'relationship': 'husband', 'race': 'white', 'sex': 'male', 'capital-gain': 0, 'capital-loss': 0, 'hours-per-week': 45, 'native-country': 'united-states'}\n",
            "output: [0.8934437]\n"
          ]
        }
      ]
    }
  ]
}